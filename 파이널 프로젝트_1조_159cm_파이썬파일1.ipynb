{
 "cells": [
  {
   "cell_type": "markdown",
   "id": "2a25f992",
   "metadata": {},
   "source": [
    "# 가설1 : 29cm를 많이 가입하는 세대는 M 세대지만, 이용 시간은 Z가 많을 것이다.  "
   ]
  },
  {
   "cell_type": "markdown",
   "id": "2466c92e",
   "metadata": {},
   "source": [
    "> - 지표마다 전체 코드를 첫번째 셀에 모두 적은 후, 하나씩 실행해서 결과 도출했습니다. "
   ]
  },
  {
   "cell_type": "code",
   "execution_count": 1,
   "id": "0c6ff75b",
   "metadata": {
    "ExecuteTime": {
     "end_time": "2022-05-25T11:43:15.602713Z",
     "start_time": "2022-05-25T11:42:28.738865Z"
    }
   },
   "outputs": [],
   "source": [
    "import pandas as pd\n",
    "import numpy as np\n",
    "\n",
    "# 통합 파일 불러오기\n",
    "df = pd.read_csv(\"mz_final.csv\", encoding = 'utf-8')"
   ]
  },
  {
   "cell_type": "markdown",
   "id": "b0983d67",
   "metadata": {},
   "source": [
    "## 가입자수"
   ]
  },
  {
   "cell_type": "code",
   "execution_count": 2,
   "id": "68ad985d",
   "metadata": {
    "ExecuteTime": {
     "end_time": "2022-05-25T11:46:31.326325Z",
     "start_time": "2022-05-25T11:46:29.848213Z"
    }
   },
   "outputs": [
    {
     "data": {
      "text/plain": [
       "generation\n",
       "M    143873\n",
       "Z     61944\n",
       "Name: user_no, dtype: int64"
      ]
     },
     "execution_count": 2,
     "metadata": {},
     "output_type": "execute_result"
    }
   ],
   "source": [
    "# user_no을 기준으로 중복 제거 \n",
    "df_user = df.drop_duplicates(['user_no'])\n",
    "\n",
    "# M/Z 가입자수 비교\n",
    "df_user['user_no'].groupby(df_user['generation']).count()"
   ]
  },
  {
   "cell_type": "markdown",
   "id": "67e2e44f",
   "metadata": {},
   "source": [
    "### 전체 MZ 가입자 수에 대한 M,Z 각각의 비율 구하기"
   ]
  },
  {
   "cell_type": "code",
   "execution_count": null,
   "id": "fd6903cc",
   "metadata": {},
   "outputs": [],
   "source": [
    "# MZ 가입자수 총합\n",
    "total = df_user['generation'].value_counts().sum()\n",
    "total # 205817\n",
    "\n",
    "# M 가입자 수 총합\n",
    "total_m = df_user[df_user['generation'] == \"M\"]['generation'].count()\n",
    "total_m # 143873\n",
    "\n",
    "# Z 가입자 수 총합\n",
    "total_z = df_user[df_user['generation'] == \"Z\"]['generation'].count()\n",
    "total_z # 61944\n",
    "\n",
    "# total_m/total = 전체 MZ에 대한 M의 비율\n",
    "total_m / total # 0.6990336075251316\n",
    "\n",
    "# total_z/total = 전체 MZ에 대한 Z의 비율\n",
    "total_z/total # 0.30096639247486845"
   ]
  },
  {
   "cell_type": "code",
   "execution_count": 3,
   "id": "47a0b175",
   "metadata": {
    "ExecuteTime": {
     "end_time": "2022-05-25T11:46:46.104251Z",
     "start_time": "2022-05-25T11:46:46.056805Z"
    }
   },
   "outputs": [
    {
     "data": {
      "text/plain": [
       "205817"
      ]
     },
     "execution_count": 3,
     "metadata": {},
     "output_type": "execute_result"
    }
   ],
   "source": [
    "# MZ 가입자수 총합\n",
    "total = df_user['generation'].value_counts().sum()\n",
    "total"
   ]
  },
  {
   "cell_type": "code",
   "execution_count": 4,
   "id": "1710164d",
   "metadata": {
    "ExecuteTime": {
     "end_time": "2022-05-25T11:46:52.280073Z",
     "start_time": "2022-05-25T11:46:52.133294Z"
    }
   },
   "outputs": [
    {
     "data": {
      "text/plain": [
       "143873"
      ]
     },
     "execution_count": 4,
     "metadata": {},
     "output_type": "execute_result"
    }
   ],
   "source": [
    "# M 가입자 수 총합\n",
    "total_m = df_user[df_user['generation'] == \"M\"]['generation'].count()\n",
    "total_m"
   ]
  },
  {
   "cell_type": "code",
   "execution_count": 5,
   "id": "77d8eb77",
   "metadata": {
    "ExecuteTime": {
     "end_time": "2022-05-25T11:47:00.069456Z",
     "start_time": "2022-05-25T11:46:59.978733Z"
    }
   },
   "outputs": [
    {
     "data": {
      "text/plain": [
       "61944"
      ]
     },
     "execution_count": 5,
     "metadata": {},
     "output_type": "execute_result"
    }
   ],
   "source": [
    "# Z 가입자 수 총합\n",
    "total_z = df_user[df_user['generation'] == \"Z\"]['generation'].count()\n",
    "total_z "
   ]
  },
  {
   "cell_type": "code",
   "execution_count": 7,
   "id": "fb6a7d7c",
   "metadata": {
    "ExecuteTime": {
     "end_time": "2022-05-25T11:48:36.256511Z",
     "start_time": "2022-05-25T11:48:36.239557Z"
    }
   },
   "outputs": [
    {
     "data": {
      "text/plain": [
       "0.6990336075251316"
      ]
     },
     "execution_count": 7,
     "metadata": {},
     "output_type": "execute_result"
    }
   ],
   "source": [
    "# total_m/total = 전체 MZ에 대한 M의 비율\n",
    "total_m / total"
   ]
  },
  {
   "cell_type": "code",
   "execution_count": 8,
   "id": "10f7b5cf",
   "metadata": {
    "ExecuteTime": {
     "end_time": "2022-05-25T11:48:43.471844Z",
     "start_time": "2022-05-25T11:48:43.458879Z"
    }
   },
   "outputs": [
    {
     "data": {
      "text/plain": [
       "0.30096639247486845"
      ]
     },
     "execution_count": 8,
     "metadata": {},
     "output_type": "execute_result"
    }
   ],
   "source": [
    "# total_z/total = 전체 MZ에 대한 Z의 비율\n",
    "total_z/total"
   ]
  },
  {
   "cell_type": "markdown",
   "id": "5fbf1863",
   "metadata": {},
   "source": [
    "## 체류시간"
   ]
  },
  {
   "cell_type": "markdown",
   "id": "c85cf129",
   "metadata": {},
   "source": [
    "> - M세대 구하는 코드만 올린 것으로 \"Z\"로 바꿔서 Z세대 구하시면 됩니다."
   ]
  },
  {
   "cell_type": "code",
   "execution_count": null,
   "id": "b625cecb",
   "metadata": {
    "ExecuteTime": {
     "start_time": "2022-05-23T06:42:04.448Z"
    }
   },
   "outputs": [],
   "source": [
    "# trasform 함수 사용 X 방법\n",
    "\n",
    "# M세대로 나누기\n",
    "df_m = df[(df[\"generation\"] == \"M\")]\n",
    "\n",
    "# 세션아이디별로 타임스탬프 정렬\n",
    "df = df_m.sort_values(by=['session_id', 'event_timestamp'])\n",
    "\n",
    "# 마지막 타임스탬프만 뽑기\n",
    "last_timestamp = df.groupby(by=\"session_id\")[\"event_timestamp\"].max().reset_index()\n",
    "\n",
    "# 마지막 타임스탬프와 첫번째 타임스탬프 합치기\n",
    "result = pd.merge(df, last_timestamp, on = \"session_id\")\n",
    "\n",
    "# 첫번째 세션 아이디만 남기고 중복된 세션아이디 제거\n",
    "result = result.drop_duplicates(subset=[\"session_id\"])\n",
    "\n",
    "# 문자열을 날짜 데이터타입으로 변환 \n",
    "result['event_timestamp_x'] = pd.to_datetime(result['event_timestamp_x'])\n",
    "result['event_timestamp_y'] = pd.to_datetime(result['event_timestamp_y'])\n",
    "\n",
    "# 세션별 최대 타임과 최소 타임의 차이 구하기\n",
    "time = result['event_timestamp_y'] - result['event_timestamp_x']\n",
    "\n",
    "\n",
    "# 단순 세션별 \n",
    "time.sum()/(df['session_id'].drop_duplicates().count())\n",
    "# > Timedelta('0 days 00:05:24.772675586')\n",
    "#세션당 평균 체류시간 \n",
    "\n",
    "# 세션별 - 차이가 0인 세션 제외한 세션수로 나누고\n",
    "# 액티브한 고객들의 세션만 이용하면 높은 수가 나올 줄 알았지만, 아니었음\n",
    "time.sum()/time[time > '00:00:00'].shape[0]\n",
    "# > Timedelta('0 days 00:08:25.438678803')\n",
    "\n",
    "# time.sum()/555908 # time[time > '00:00:00'] 만족하는 행의 수로 나누기"
   ]
  },
  {
   "cell_type": "code",
   "execution_count": 9,
   "id": "506eb55c",
   "metadata": {
    "ExecuteTime": {
     "end_time": "2022-05-25T11:50:56.007242Z",
     "start_time": "2022-05-25T11:50:44.364684Z"
    }
   },
   "outputs": [],
   "source": [
    "# M세대로 나누기\n",
    "df_m = df[(df[\"generation\"] == \"M\")]"
   ]
  },
  {
   "cell_type": "code",
   "execution_count": 10,
   "id": "c6f63a70",
   "metadata": {
    "ExecuteTime": {
     "end_time": "2022-05-25T11:51:40.259728Z",
     "start_time": "2022-05-25T11:51:00.026562Z"
    }
   },
   "outputs": [],
   "source": [
    "# 세션아이디별로 타임스탬프 정렬\n",
    "df = df_m.sort_values(by=['session_id', 'event_timestamp'])"
   ]
  },
  {
   "cell_type": "code",
   "execution_count": 11,
   "id": "68c54322",
   "metadata": {
    "ExecuteTime": {
     "end_time": "2022-05-25T11:53:34.528581Z",
     "start_time": "2022-05-25T11:51:43.941629Z"
    }
   },
   "outputs": [],
   "source": [
    "# 마지막 타임스탬프만 뽑기\n",
    "last_timestamp = df.groupby(by=\"session_id\")[\"event_timestamp\"].max().reset_index()"
   ]
  },
  {
   "cell_type": "code",
   "execution_count": 12,
   "id": "3d4fcd43",
   "metadata": {
    "ExecuteTime": {
     "end_time": "2022-05-25T11:53:48.469932Z",
     "start_time": "2022-05-25T11:53:38.948718Z"
    }
   },
   "outputs": [],
   "source": [
    "# 마지막 타임스탬프와 첫번째 타임스탬프 합치기\n",
    "result = pd.merge(df, last_timestamp, on = \"session_id\")"
   ]
  },
  {
   "cell_type": "code",
   "execution_count": 13,
   "id": "17568947",
   "metadata": {
    "ExecuteTime": {
     "end_time": "2022-05-25T11:53:57.984122Z",
     "start_time": "2022-05-25T11:53:51.430402Z"
    }
   },
   "outputs": [],
   "source": [
    "# 첫번째 세션 아이디만 남기고 중복된 세션아이디 제거\n",
    "result = result.drop_duplicates(subset=[\"session_id\"])"
   ]
  },
  {
   "cell_type": "code",
   "execution_count": 14,
   "id": "79fddcb4",
   "metadata": {
    "ExecuteTime": {
     "end_time": "2022-05-25T11:54:03.376143Z",
     "start_time": "2022-05-25T11:54:00.732502Z"
    }
   },
   "outputs": [],
   "source": [
    "# 문자열을 날짜 데이터타입으로 변환 \n",
    "result['event_timestamp_x'] = pd.to_datetime(result['event_timestamp_x'])\n",
    "result['event_timestamp_y'] = pd.to_datetime(result['event_timestamp_y'])"
   ]
  },
  {
   "cell_type": "code",
   "execution_count": 15,
   "id": "ee486145",
   "metadata": {
    "ExecuteTime": {
     "end_time": "2022-05-25T11:54:06.496456Z",
     "start_time": "2022-05-25T11:54:06.418416Z"
    }
   },
   "outputs": [],
   "source": [
    "# 세션별 최대 타임과 최소 타임의 차이 구하기\n",
    "time = result['event_timestamp_y'] - result['event_timestamp_x']"
   ]
  },
  {
   "cell_type": "code",
   "execution_count": 17,
   "id": "4151c1d4",
   "metadata": {
    "ExecuteTime": {
     "end_time": "2022-05-25T11:55:18.303162Z",
     "start_time": "2022-05-25T11:55:17.559565Z"
    }
   },
   "outputs": [
    {
     "data": {
      "text/plain": [
       "Timedelta('0 days 00:05:24.772675586')"
      ]
     },
     "execution_count": 17,
     "metadata": {},
     "output_type": "execute_result"
    }
   ],
   "source": [
    "# 단순 세션별 \n",
    "time.sum()/(df['session_id'].drop_duplicates().count())"
   ]
  },
  {
   "cell_type": "code",
   "execution_count": 18,
   "id": "293962be",
   "metadata": {
    "ExecuteTime": {
     "end_time": "2022-05-25T11:55:32.541446Z",
     "start_time": "2022-05-25T11:55:32.497521Z"
    }
   },
   "outputs": [
    {
     "data": {
      "text/plain": [
       "Timedelta('0 days 00:08:25.438678803')"
      ]
     },
     "execution_count": 18,
     "metadata": {},
     "output_type": "execute_result"
    }
   ],
   "source": [
    "# 세션별 - 차이가 0인 세션 제외한 세션수로 나누고\n",
    "# 액티브한 고객들의 세션만 이용하면 높은 수가 나올 줄 알았지만, 아니었음\n",
    "time.sum()/time[time > '00:00:00'].shape[0]"
   ]
  },
  {
   "cell_type": "markdown",
   "id": "57ed4c84",
   "metadata": {},
   "source": [
    "## 세션 방문 빈도수"
   ]
  },
  {
   "cell_type": "code",
   "execution_count": null,
   "id": "f4d71ff2",
   "metadata": {},
   "outputs": [],
   "source": [
    "# session_id 을 기준으로 중복 제거 \n",
    "df_session = df.drop_duplicates(['session_id'])\n",
    "df_session\n",
    "\n",
    "# 세대별로 그룹화\n",
    "grouped_mz = df_session.groupby('generation')\n",
    "\n",
    "# M세대 user_no 별로 groupby \n",
    "grouped_m_user_no= grouped_mz.get_group('M').groupby('user_no')\n",
    "grouped_m_user_no.size().sum() # 865151\n",
    "# Z세대 user_no 별로 groupby\n",
    "grouped_z_user_no= grouped_mz.get_group('Z').groupby('user_no')\n",
    "grouped_z_user_no.size().sum() # 319240\n",
    "\n",
    "# M세대의 세션 빈도수의 평균\n",
    "grouped_m_user_no.size().mean() # 6.013296448951506\n",
    "# Z세대의 세션 빈도수의 평균\n",
    "grouped_z_user_no.size().mean() # 5.153687201343149\n",
    "\n",
    "# M세대의 세션 빈도수의 중위수\n",
    "grouped_m_user_no.size().median() # 3.0\n",
    "# Z세대의 세션 빈도수의 중위수\n",
    "grouped_z_user_no.size().median() # 2.0"
   ]
  },
  {
   "cell_type": "code",
   "execution_count": 19,
   "id": "8800a3a7",
   "metadata": {
    "ExecuteTime": {
     "end_time": "2022-05-25T11:59:10.540067Z",
     "start_time": "2022-05-25T11:59:08.739109Z"
    }
   },
   "outputs": [
    {
     "data": {
      "text/html": [
       "<div>\n",
       "<style scoped>\n",
       "    .dataframe tbody tr th:only-of-type {\n",
       "        vertical-align: middle;\n",
       "    }\n",
       "\n",
       "    .dataframe tbody tr th {\n",
       "        vertical-align: top;\n",
       "    }\n",
       "\n",
       "    .dataframe thead th {\n",
       "        text-align: right;\n",
       "    }\n",
       "</style>\n",
       "<table border=\"1\" class=\"dataframe\">\n",
       "  <thead>\n",
       "    <tr style=\"text-align: right;\">\n",
       "      <th></th>\n",
       "      <th>user_no</th>\n",
       "      <th>year</th>\n",
       "      <th>generation</th>\n",
       "      <th>session_id</th>\n",
       "      <th>event_timestamp</th>\n",
       "      <th>event_name</th>\n",
       "      <th>item_no</th>\n",
       "      <th>price</th>\n",
       "      <th>category1_name</th>\n",
       "      <th>category2_name</th>\n",
       "      <th>category3_name</th>\n",
       "      <th>brand_no</th>\n",
       "      <th>brand_name</th>\n",
       "    </tr>\n",
       "  </thead>\n",
       "  <tbody>\n",
       "    <tr>\n",
       "      <th>1774282</th>\n",
       "      <td>a+qjV4Mq5z4UwP69U7B8aw==</td>\n",
       "      <td>1982</td>\n",
       "      <td>M</td>\n",
       "      <td>0000104cd168386a335ba6bf6e32219d</td>\n",
       "      <td>2021-07-20 02:16:04.405017</td>\n",
       "      <td>add_to_cart</td>\n",
       "      <td>9W/h68eEr+AVlH3aQnvpSA==</td>\n",
       "      <td>179000.0</td>\n",
       "      <td>잡화</td>\n",
       "      <td>신발</td>\n",
       "      <td>샌들</td>\n",
       "      <td>10219.0</td>\n",
       "      <td>CHUBASCO</td>\n",
       "    </tr>\n",
       "    <tr>\n",
       "      <th>1180948</th>\n",
       "      <td>V4z7pgAxLNqN5YpcT19ocA==</td>\n",
       "      <td>1982</td>\n",
       "      <td>M</td>\n",
       "      <td>0000193a728fd00b6cff91b8840bbf8d</td>\n",
       "      <td>2021-06-10 01:36:21.357033</td>\n",
       "      <td>click_item</td>\n",
       "      <td>Wv+sVIZvHu8e2sRfYmYgYQ==</td>\n",
       "      <td>37000.0</td>\n",
       "      <td>스포츠/레저</td>\n",
       "      <td>캠핑</td>\n",
       "      <td>기타 캠핑용품</td>\n",
       "      <td>1669.0</td>\n",
       "      <td>HIBROW company</td>\n",
       "    </tr>\n",
       "    <tr>\n",
       "      <th>2560870</th>\n",
       "      <td>+Ah1Nbgq/LVp6XX7uhlaoQ==</td>\n",
       "      <td>1992</td>\n",
       "      <td>M</td>\n",
       "      <td>00003e3b9e5336685200ae85d21b4f5e</td>\n",
       "      <td>2021-08-02 07:22:06.236029</td>\n",
       "      <td>click_item</td>\n",
       "      <td>cBuYkZ0BHhrAw3APdaZXsw==</td>\n",
       "      <td>39000.0</td>\n",
       "      <td>의류</td>\n",
       "      <td>상의</td>\n",
       "      <td>티셔츠</td>\n",
       "      <td>6129.0</td>\n",
       "      <td>ARETHAT</td>\n",
       "    </tr>\n",
       "    <tr>\n",
       "      <th>1967466</th>\n",
       "      <td>vPnWvRSiCVhmzoyVC3AjQQ==</td>\n",
       "      <td>1987</td>\n",
       "      <td>M</td>\n",
       "      <td>000051f32d02c8a53b43a686969676e6</td>\n",
       "      <td>2021-07-21 11:08:40.341108</td>\n",
       "      <td>click_item</td>\n",
       "      <td>2CE69ahbX9niENVTr9u7yQ==</td>\n",
       "      <td>93000.0</td>\n",
       "      <td>의류</td>\n",
       "      <td>상의</td>\n",
       "      <td>카디건</td>\n",
       "      <td>2069.0</td>\n",
       "      <td>Andersson Bell for women</td>\n",
       "    </tr>\n",
       "    <tr>\n",
       "      <th>2219248</th>\n",
       "      <td>MrV6uhZQS4D/EzBii/JBVg==</td>\n",
       "      <td>1989</td>\n",
       "      <td>M</td>\n",
       "      <td>00007c55a9a7591b98a76d79216c9112</td>\n",
       "      <td>2021-07-03 23:15:04.800098</td>\n",
       "      <td>click_item</td>\n",
       "      <td>dWDUiV7Gd2bkvwfJXR7iOQ==</td>\n",
       "      <td>33500.0</td>\n",
       "      <td>잡화</td>\n",
       "      <td>가방</td>\n",
       "      <td>에코백</td>\n",
       "      <td>10693.0</td>\n",
       "      <td>민민</td>\n",
       "    </tr>\n",
       "    <tr>\n",
       "      <th>...</th>\n",
       "      <td>...</td>\n",
       "      <td>...</td>\n",
       "      <td>...</td>\n",
       "      <td>...</td>\n",
       "      <td>...</td>\n",
       "      <td>...</td>\n",
       "      <td>...</td>\n",
       "      <td>...</td>\n",
       "      <td>...</td>\n",
       "      <td>...</td>\n",
       "      <td>...</td>\n",
       "      <td>...</td>\n",
       "      <td>...</td>\n",
       "    </tr>\n",
       "    <tr>\n",
       "      <th>1134683</th>\n",
       "      <td>Pi7/bxomllN+TNE2XnlhMw==</td>\n",
       "      <td>1991</td>\n",
       "      <td>M</td>\n",
       "      <td>ffff9979c9699b51cb7cda98e5bf84c2</td>\n",
       "      <td>2021-07-15 18:11:18.478039</td>\n",
       "      <td>click_item</td>\n",
       "      <td>vR8cgga99YIhifEb//ffDw==</td>\n",
       "      <td>59000.0</td>\n",
       "      <td>의류</td>\n",
       "      <td>상의</td>\n",
       "      <td>니트/스웨터</td>\n",
       "      <td>2003.0</td>\n",
       "      <td>AMONG</td>\n",
       "    </tr>\n",
       "    <tr>\n",
       "      <th>136319</th>\n",
       "      <td>8TaE3hhkfhn8TtrPayhZIA==</td>\n",
       "      <td>1993</td>\n",
       "      <td>M</td>\n",
       "      <td>ffffb8de2d77567f452ad766471a9e5e</td>\n",
       "      <td>2021-06-21 07:49:53.120004</td>\n",
       "      <td>purchase_success</td>\n",
       "      <td>ZaLANVgSFf9opvMKO9zgLw==</td>\n",
       "      <td>12000.0</td>\n",
       "      <td>컬처</td>\n",
       "      <td>티켓</td>\n",
       "      <td>전시/행사</td>\n",
       "      <td>14747.0</td>\n",
       "      <td>그라운드시소</td>\n",
       "    </tr>\n",
       "    <tr>\n",
       "      <th>1587021</th>\n",
       "      <td>Ej6vc1bpQU3E78ZJGrM8xg==</td>\n",
       "      <td>1994</td>\n",
       "      <td>M</td>\n",
       "      <td>ffffbd0f062adb4c4a307c5a05f7b0ad</td>\n",
       "      <td>2021-07-13 21:55:53.220088</td>\n",
       "      <td>click_item</td>\n",
       "      <td>Hq+1p/y1/AXj8rr4Tk9IUg==</td>\n",
       "      <td>99000.0</td>\n",
       "      <td>의류</td>\n",
       "      <td>상의</td>\n",
       "      <td>티셔츠</td>\n",
       "      <td>13227.0</td>\n",
       "      <td>POLO RALPH LAUREN</td>\n",
       "    </tr>\n",
       "    <tr>\n",
       "      <th>2592175</th>\n",
       "      <td>2Dv1XGrHGK5/8ORRBHjF6Q==</td>\n",
       "      <td>1992</td>\n",
       "      <td>M</td>\n",
       "      <td>ffffda8ada4827900cbf65fd20281080</td>\n",
       "      <td>2021-07-01 09:06:01.725</td>\n",
       "      <td>click_item</td>\n",
       "      <td>BpEE6ZLim9KZNlpCUNTWiw==</td>\n",
       "      <td>136000.0</td>\n",
       "      <td>의류</td>\n",
       "      <td>스윔웨어</td>\n",
       "      <td>원피스수영복</td>\n",
       "      <td>5892.0</td>\n",
       "      <td>JULIY&amp;CALLA</td>\n",
       "    </tr>\n",
       "    <tr>\n",
       "      <th>230889</th>\n",
       "      <td>/ljIB70UTJPtSeOU2Aho1Q==</td>\n",
       "      <td>1990</td>\n",
       "      <td>M</td>\n",
       "      <td>fffffe98d0963d27015c198262d97221</td>\n",
       "      <td>2021-07-25 22:52:07.073008</td>\n",
       "      <td>purchase_success</td>\n",
       "      <td>7+g0Wc7SenWbFZouiSj8RQ==</td>\n",
       "      <td>38000.0</td>\n",
       "      <td>의류</td>\n",
       "      <td>상의</td>\n",
       "      <td>티셔츠</td>\n",
       "      <td>7604.0</td>\n",
       "      <td>Wave union</td>\n",
       "    </tr>\n",
       "  </tbody>\n",
       "</table>\n",
       "<p>865151 rows × 13 columns</p>\n",
       "</div>"
      ],
      "text/plain": [
       "                          user_no  year generation  \\\n",
       "1774282  a+qjV4Mq5z4UwP69U7B8aw==  1982          M   \n",
       "1180948  V4z7pgAxLNqN5YpcT19ocA==  1982          M   \n",
       "2560870  +Ah1Nbgq/LVp6XX7uhlaoQ==  1992          M   \n",
       "1967466  vPnWvRSiCVhmzoyVC3AjQQ==  1987          M   \n",
       "2219248  MrV6uhZQS4D/EzBii/JBVg==  1989          M   \n",
       "...                           ...   ...        ...   \n",
       "1134683  Pi7/bxomllN+TNE2XnlhMw==  1991          M   \n",
       "136319   8TaE3hhkfhn8TtrPayhZIA==  1993          M   \n",
       "1587021  Ej6vc1bpQU3E78ZJGrM8xg==  1994          M   \n",
       "2592175  2Dv1XGrHGK5/8ORRBHjF6Q==  1992          M   \n",
       "230889   /ljIB70UTJPtSeOU2Aho1Q==  1990          M   \n",
       "\n",
       "                               session_id             event_timestamp  \\\n",
       "1774282  0000104cd168386a335ba6bf6e32219d  2021-07-20 02:16:04.405017   \n",
       "1180948  0000193a728fd00b6cff91b8840bbf8d  2021-06-10 01:36:21.357033   \n",
       "2560870  00003e3b9e5336685200ae85d21b4f5e  2021-08-02 07:22:06.236029   \n",
       "1967466  000051f32d02c8a53b43a686969676e6  2021-07-21 11:08:40.341108   \n",
       "2219248  00007c55a9a7591b98a76d79216c9112  2021-07-03 23:15:04.800098   \n",
       "...                                   ...                         ...   \n",
       "1134683  ffff9979c9699b51cb7cda98e5bf84c2  2021-07-15 18:11:18.478039   \n",
       "136319   ffffb8de2d77567f452ad766471a9e5e  2021-06-21 07:49:53.120004   \n",
       "1587021  ffffbd0f062adb4c4a307c5a05f7b0ad  2021-07-13 21:55:53.220088   \n",
       "2592175  ffffda8ada4827900cbf65fd20281080     2021-07-01 09:06:01.725   \n",
       "230889   fffffe98d0963d27015c198262d97221  2021-07-25 22:52:07.073008   \n",
       "\n",
       "               event_name                   item_no     price category1_name  \\\n",
       "1774282       add_to_cart  9W/h68eEr+AVlH3aQnvpSA==  179000.0             잡화   \n",
       "1180948        click_item  Wv+sVIZvHu8e2sRfYmYgYQ==   37000.0         스포츠/레저   \n",
       "2560870        click_item  cBuYkZ0BHhrAw3APdaZXsw==   39000.0             의류   \n",
       "1967466        click_item  2CE69ahbX9niENVTr9u7yQ==   93000.0             의류   \n",
       "2219248        click_item  dWDUiV7Gd2bkvwfJXR7iOQ==   33500.0             잡화   \n",
       "...                   ...                       ...       ...            ...   \n",
       "1134683        click_item  vR8cgga99YIhifEb//ffDw==   59000.0             의류   \n",
       "136319   purchase_success  ZaLANVgSFf9opvMKO9zgLw==   12000.0             컬처   \n",
       "1587021        click_item  Hq+1p/y1/AXj8rr4Tk9IUg==   99000.0             의류   \n",
       "2592175        click_item  BpEE6ZLim9KZNlpCUNTWiw==  136000.0             의류   \n",
       "230889   purchase_success  7+g0Wc7SenWbFZouiSj8RQ==   38000.0             의류   \n",
       "\n",
       "        category2_name category3_name  brand_no                brand_name  \n",
       "1774282             신발             샌들   10219.0                  CHUBASCO  \n",
       "1180948             캠핑        기타 캠핑용품    1669.0            HIBROW company  \n",
       "2560870             상의            티셔츠    6129.0                   ARETHAT  \n",
       "1967466             상의            카디건    2069.0  Andersson Bell for women  \n",
       "2219248             가방            에코백   10693.0                        민민  \n",
       "...                ...            ...       ...                       ...  \n",
       "1134683             상의         니트/스웨터    2003.0                     AMONG  \n",
       "136319              티켓          전시/행사   14747.0                    그라운드시소  \n",
       "1587021             상의            티셔츠   13227.0         POLO RALPH LAUREN  \n",
       "2592175           스윔웨어         원피스수영복    5892.0               JULIY&CALLA  \n",
       "230889              상의            티셔츠    7604.0                Wave union  \n",
       "\n",
       "[865151 rows x 13 columns]"
      ]
     },
     "execution_count": 19,
     "metadata": {},
     "output_type": "execute_result"
    }
   ],
   "source": [
    "# session_id 을 기준으로 중복 제거 \n",
    "df_session = df.drop_duplicates(['session_id'])\n",
    "df_session"
   ]
  },
  {
   "cell_type": "code",
   "execution_count": 20,
   "id": "f00bc62c",
   "metadata": {
    "ExecuteTime": {
     "end_time": "2022-05-25T11:59:30.190842Z",
     "start_time": "2022-05-25T11:59:30.174850Z"
    }
   },
   "outputs": [],
   "source": [
    "# 세대별로 그룹화\n",
    "grouped_mz = df_session.groupby('generation')"
   ]
  },
  {
   "cell_type": "code",
   "execution_count": 21,
   "id": "6d83e108",
   "metadata": {
    "ExecuteTime": {
     "end_time": "2022-05-25T11:59:33.622630Z",
     "start_time": "2022-05-25T11:59:32.590827Z"
    }
   },
   "outputs": [
    {
     "data": {
      "text/plain": [
       "865151"
      ]
     },
     "execution_count": 21,
     "metadata": {},
     "output_type": "execute_result"
    }
   ],
   "source": [
    "# M세대 user_no 별로 groupby \n",
    "grouped_m_user_no= grouped_mz.get_group('M').groupby('user_no')\n",
    "grouped_m_user_no.size().sum()"
   ]
  },
  {
   "cell_type": "code",
   "execution_count": 22,
   "id": "23f948d6",
   "metadata": {
    "ExecuteTime": {
     "end_time": "2022-05-25T11:59:42.876833Z",
     "start_time": "2022-05-25T11:59:42.837936Z"
    }
   },
   "outputs": [
    {
     "data": {
      "text/plain": [
       "6.013296448951506"
      ]
     },
     "execution_count": 22,
     "metadata": {},
     "output_type": "execute_result"
    }
   ],
   "source": [
    "# M세대의 세션 빈도수의 평균\n",
    "grouped_m_user_no.size().mean()"
   ]
  },
  {
   "cell_type": "code",
   "execution_count": 23,
   "id": "5200c4cc",
   "metadata": {
    "ExecuteTime": {
     "end_time": "2022-05-25T11:59:45.564614Z",
     "start_time": "2022-05-25T11:59:45.531254Z"
    }
   },
   "outputs": [
    {
     "data": {
      "text/plain": [
       "3.0"
      ]
     },
     "execution_count": 23,
     "metadata": {},
     "output_type": "execute_result"
    }
   ],
   "source": [
    "# M세대의 세션 빈도수의 중위수\n",
    "grouped_m_user_no.size().median() #3.0"
   ]
  },
  {
   "cell_type": "markdown",
   "id": "a63b7c53",
   "metadata": {},
   "source": [
    "> 여기까지 쭉 따라하다가 Z세대 구하려고 하면 아래와 같이 오류가 뜰텐데요,  \n",
    "> 지표 1.1, 1.2 구하면서 df의 generation = \"M\" 상태로 바껴서 안되는 것 같습니다.  \n",
    "> Z세대 구하시려면 다시 파일 불러오셔서 하시는 걸 추천드려요!"
   ]
  },
  {
   "cell_type": "code",
   "execution_count": 24,
   "id": "2da27968",
   "metadata": {
    "ExecuteTime": {
     "end_time": "2022-05-25T11:59:57.391886Z",
     "start_time": "2022-05-25T11:59:57.248672Z"
    },
    "scrolled": true
   },
   "outputs": [
    {
     "ename": "KeyError",
     "evalue": "'Z'",
     "output_type": "error",
     "traceback": [
      "\u001b[1;31m---------------------------------------------------------------------------\u001b[0m",
      "\u001b[1;31mKeyError\u001b[0m                                  Traceback (most recent call last)",
      "\u001b[1;32m<ipython-input-24-39200adb870e>\u001b[0m in \u001b[0;36m<module>\u001b[1;34m\u001b[0m\n\u001b[0;32m      1\u001b[0m \u001b[1;31m# Z세대 user_no 별로 groupby\u001b[0m\u001b[1;33m\u001b[0m\u001b[1;33m\u001b[0m\u001b[1;33m\u001b[0m\u001b[0m\n\u001b[1;32m----> 2\u001b[1;33m \u001b[0mgrouped_z_user_no\u001b[0m\u001b[1;33m=\u001b[0m \u001b[0mgrouped_mz\u001b[0m\u001b[1;33m.\u001b[0m\u001b[0mget_group\u001b[0m\u001b[1;33m(\u001b[0m\u001b[1;34m'Z'\u001b[0m\u001b[1;33m)\u001b[0m\u001b[1;33m.\u001b[0m\u001b[0mgroupby\u001b[0m\u001b[1;33m(\u001b[0m\u001b[1;34m'user_no'\u001b[0m\u001b[1;33m)\u001b[0m\u001b[1;33m\u001b[0m\u001b[1;33m\u001b[0m\u001b[0m\n\u001b[0m\u001b[0;32m      3\u001b[0m \u001b[0mgrouped_z_user_no\u001b[0m\u001b[1;33m.\u001b[0m\u001b[0msize\u001b[0m\u001b[1;33m(\u001b[0m\u001b[1;33m)\u001b[0m\u001b[1;33m\u001b[0m\u001b[1;33m\u001b[0m\u001b[0m\n",
      "\u001b[1;32m~\\anaconda3\\lib\\site-packages\\pandas\\core\\groupby\\groupby.py\u001b[0m in \u001b[0;36mget_group\u001b[1;34m(self, name, obj)\u001b[0m\n\u001b[0;32m    843\u001b[0m         \u001b[0minds\u001b[0m \u001b[1;33m=\u001b[0m \u001b[0mself\u001b[0m\u001b[1;33m.\u001b[0m\u001b[0m_get_index\u001b[0m\u001b[1;33m(\u001b[0m\u001b[0mname\u001b[0m\u001b[1;33m)\u001b[0m\u001b[1;33m\u001b[0m\u001b[1;33m\u001b[0m\u001b[0m\n\u001b[0;32m    844\u001b[0m         \u001b[1;32mif\u001b[0m \u001b[1;32mnot\u001b[0m \u001b[0mlen\u001b[0m\u001b[1;33m(\u001b[0m\u001b[0minds\u001b[0m\u001b[1;33m)\u001b[0m\u001b[1;33m:\u001b[0m\u001b[1;33m\u001b[0m\u001b[1;33m\u001b[0m\u001b[0m\n\u001b[1;32m--> 845\u001b[1;33m             \u001b[1;32mraise\u001b[0m \u001b[0mKeyError\u001b[0m\u001b[1;33m(\u001b[0m\u001b[0mname\u001b[0m\u001b[1;33m)\u001b[0m\u001b[1;33m\u001b[0m\u001b[1;33m\u001b[0m\u001b[0m\n\u001b[0m\u001b[0;32m    846\u001b[0m \u001b[1;33m\u001b[0m\u001b[0m\n\u001b[0;32m    847\u001b[0m         \u001b[1;32mreturn\u001b[0m \u001b[0mobj\u001b[0m\u001b[1;33m.\u001b[0m\u001b[0m_take_with_is_copy\u001b[0m\u001b[1;33m(\u001b[0m\u001b[0minds\u001b[0m\u001b[1;33m,\u001b[0m \u001b[0maxis\u001b[0m\u001b[1;33m=\u001b[0m\u001b[0mself\u001b[0m\u001b[1;33m.\u001b[0m\u001b[0maxis\u001b[0m\u001b[1;33m)\u001b[0m\u001b[1;33m\u001b[0m\u001b[1;33m\u001b[0m\u001b[0m\n",
      "\u001b[1;31mKeyError\u001b[0m: 'Z'"
     ]
    }
   ],
   "source": [
    "# Z세대 user_no 별로 groupby\n",
    "grouped_z_user_no= grouped_mz.get_group('Z').groupby('user_no')\n",
    "grouped_z_user_no.size()"
   ]
  },
  {
   "cell_type": "code",
   "execution_count": 60,
   "id": "55e57541",
   "metadata": {
    "ExecuteTime": {
     "end_time": "2022-05-23T05:10:44.552313Z",
     "start_time": "2022-05-23T05:10:44.524377Z"
    }
   },
   "outputs": [
    {
     "data": {
      "text/plain": [
       "5.153687201343149"
      ]
     },
     "execution_count": 60,
     "metadata": {},
     "output_type": "execute_result"
    }
   ],
   "source": [
    "# Z세대의 세션 빈도수의 평균\n",
    "grouped_z_user_no.size().mean() "
   ]
  },
  {
   "cell_type": "code",
   "execution_count": 61,
   "id": "e0576648",
   "metadata": {
    "ExecuteTime": {
     "end_time": "2022-05-23T05:10:49.901594Z",
     "start_time": "2022-05-23T05:10:49.879654Z"
    }
   },
   "outputs": [
    {
     "data": {
      "text/plain": [
       "2.0"
      ]
     },
     "execution_count": 61,
     "metadata": {},
     "output_type": "execute_result"
    }
   ],
   "source": [
    "# Z세대의 세션 빈도수의 중위수\n",
    "grouped_z_user_no.size().median() "
   ]
  }
 ],
 "metadata": {
  "kernelspec": {
   "display_name": "Python 3",
   "language": "python",
   "name": "python3"
  },
  "language_info": {
   "codemirror_mode": {
    "name": "ipython",
    "version": 3
   },
   "file_extension": ".py",
   "mimetype": "text/x-python",
   "name": "python",
   "nbconvert_exporter": "python",
   "pygments_lexer": "ipython3",
   "version": "3.8.8"
  },
  "toc": {
   "base_numbering": 1,
   "nav_menu": {},
   "number_sections": true,
   "sideBar": true,
   "skip_h1_title": false,
   "title_cell": "Table of Contents",
   "title_sidebar": "Contents",
   "toc_cell": false,
   "toc_position": {},
   "toc_section_display": true,
   "toc_window_display": false
  },
  "varInspector": {
   "cols": {
    "lenName": 16,
    "lenType": 16,
    "lenVar": 40
   },
   "kernels_config": {
    "python": {
     "delete_cmd_postfix": "",
     "delete_cmd_prefix": "del ",
     "library": "var_list.py",
     "varRefreshCmd": "print(var_dic_list())"
    },
    "r": {
     "delete_cmd_postfix": ") ",
     "delete_cmd_prefix": "rm(",
     "library": "var_list.r",
     "varRefreshCmd": "cat(var_dic_list()) "
    }
   },
   "types_to_exclude": [
    "module",
    "function",
    "builtin_function_or_method",
    "instance",
    "_Feature"
   ],
   "window_display": false
  }
 },
 "nbformat": 4,
 "nbformat_minor": 5
}
