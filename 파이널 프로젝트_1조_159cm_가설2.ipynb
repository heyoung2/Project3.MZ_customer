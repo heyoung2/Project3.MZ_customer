{
 "cells": [
  {
   "cell_type": "code",
   "execution_count": 120,
   "id": "d024c413",
   "metadata": {},
   "outputs": [],
   "source": [
    "import pandas as pd\n",
    "import numpy as np\n",
    "df = pd.read_csv(\"mz_final.csv\", encoding = 'utf-8')"
   ]
  },
  {
   "cell_type": "code",
   "execution_count": 121,
   "id": "c5df3b8b",
   "metadata": {},
   "outputs": [],
   "source": [
    "# 데이트 분리.\n",
    "df['date'] = df.event_timestamp.str.split(' ').str[0]\n",
    "df['time'] = df.event_timestamp.str.split(' ').str[1]"
   ]
  },
  {
   "cell_type": "markdown",
   "id": "74b20056",
   "metadata": {},
   "source": [
    "## 1. 구매주기"
   ]
  },
  {
   "cell_type": "code",
   "execution_count": 122,
   "id": "c759593b",
   "metadata": {},
   "outputs": [
    {
     "name": "stderr",
     "output_type": "stream",
     "text": [
      "/var/folders/_m/cn5hgvpd2zv9jwrd8sdt55ch0000gn/T/ipykernel_1615/3516768256.py:5: SettingWithCopyWarning: \n",
      "A value is trying to be set on a copy of a slice from a DataFrame\n",
      "\n",
      "See the caveats in the documentation: https://pandas.pydata.org/pandas-docs/stable/user_guide/indexing.html#returning-a-view-versus-a-copy\n",
      "  df_m.drop_duplicates(subset=['session_id','date','time'],inplace=True)\n",
      "/var/folders/_m/cn5hgvpd2zv9jwrd8sdt55ch0000gn/T/ipykernel_1615/3516768256.py:11: SettingWithCopyWarning: \n",
      "A value is trying to be set on a copy of a slice from a DataFrame\n",
      "\n",
      "See the caveats in the documentation: https://pandas.pydata.org/pandas-docs/stable/user_guide/indexing.html#returning-a-view-versus-a-copy\n",
      "  df_z.drop_duplicates(subset=['session_id','date','time'],inplace=True)\n"
     ]
    }
   ],
   "source": [
    "## M세대 \n",
    "# M세대이면서 구매성공항 데이터(df_m) 분리\n",
    "df_m = df[(df['generation']=='M')&(df['event_name']=='purchase_success')]\n",
    "# 세션안에서 같은 세션이고 같은 날 같은 시간에 구매한 것 중복 제거 -> 한번에 두가지 제품을 구매한 경우 대비\n",
    "df_m.drop_duplicates(subset=['session_id','date','time'],inplace=True)\n",
    "\n",
    "# Z세대 \n",
    "# Z세대이면서 구매성공항 데이터(df_z) 분리\n",
    "df_z = df[(df['generation']=='Z')&(df['event_name']=='purchase_success')]\n",
    "# 세션안에서 같은 세션이고 같은 날 같은 시간에 구매한 것 중복 제거 -> 한번에 두가지 제품을 구매한 경우 대비\n",
    "df_z.drop_duplicates(subset=['session_id','date','time'],inplace=True)"
   ]
  },
  {
   "cell_type": "code",
   "execution_count": 123,
   "id": "ee3a9cdc",
   "metadata": {},
   "outputs": [],
   "source": [
    "## M세대 \n",
    "ddf = df_m"
   ]
  },
  {
   "cell_type": "code",
   "execution_count": 124,
   "id": "7f849879",
   "metadata": {
    "scrolled": true
   },
   "outputs": [
    {
     "data": {
      "text/html": [
       "<div>\n",
       "<style scoped>\n",
       "    .dataframe tbody tr th:only-of-type {\n",
       "        vertical-align: middle;\n",
       "    }\n",
       "\n",
       "    .dataframe tbody tr th {\n",
       "        vertical-align: top;\n",
       "    }\n",
       "\n",
       "    .dataframe thead th {\n",
       "        text-align: right;\n",
       "    }\n",
       "</style>\n",
       "<table border=\"1\" class=\"dataframe\">\n",
       "  <thead>\n",
       "    <tr style=\"text-align: right;\">\n",
       "      <th></th>\n",
       "      <th>user_no</th>\n",
       "      <th>year</th>\n",
       "      <th>generation</th>\n",
       "      <th>session_id</th>\n",
       "      <th>event_timestamp</th>\n",
       "      <th>event_name</th>\n",
       "      <th>item_no</th>\n",
       "      <th>price</th>\n",
       "      <th>category1_name</th>\n",
       "      <th>category2_name</th>\n",
       "      <th>category3_name</th>\n",
       "      <th>brand_no</th>\n",
       "      <th>brand_name</th>\n",
       "      <th>date</th>\n",
       "      <th>time</th>\n",
       "    </tr>\n",
       "  </thead>\n",
       "  <tbody>\n",
       "    <tr>\n",
       "      <th>32038</th>\n",
       "      <td>+++T9c17sr6wEYOy9UFv3w==</td>\n",
       "      <td>1989</td>\n",
       "      <td>M</td>\n",
       "      <td>c4ca4238a0b923820dcc509a6f75849b</td>\n",
       "      <td>2021-06-15 16:07:45.863056</td>\n",
       "      <td>purchase_success</td>\n",
       "      <td>f4eCC27uv5KkL4VhuUtesg==</td>\n",
       "      <td>33900.0</td>\n",
       "      <td>의류</td>\n",
       "      <td>상의</td>\n",
       "      <td>티셔츠</td>\n",
       "      <td>9173.0</td>\n",
       "      <td>ALVINCLO</td>\n",
       "      <td>2021-06-15</td>\n",
       "      <td>16:07:45.863056</td>\n",
       "    </tr>\n",
       "    <tr>\n",
       "      <th>32039</th>\n",
       "      <td>+++T9c17sr6wEYOy9UFv3w==</td>\n",
       "      <td>1989</td>\n",
       "      <td>M</td>\n",
       "      <td>c81e728d9d4c2f636f067f89cc14862c</td>\n",
       "      <td>2021-06-16 15:27:03.492053</td>\n",
       "      <td>purchase_success</td>\n",
       "      <td>vcWOTezeI0B73VqR9bPsBw==</td>\n",
       "      <td>55800.0</td>\n",
       "      <td>의류</td>\n",
       "      <td>하의</td>\n",
       "      <td>바지</td>\n",
       "      <td>7939.0</td>\n",
       "      <td>WV PROJECT</td>\n",
       "      <td>2021-06-16</td>\n",
       "      <td>15:27:03.492053</td>\n",
       "    </tr>\n",
       "    <tr>\n",
       "      <th>32040</th>\n",
       "      <td>+++T9c17sr6wEYOy9UFv3w==</td>\n",
       "      <td>1989</td>\n",
       "      <td>M</td>\n",
       "      <td>eccbc87e4b5ce2fe28308fd9f2a7baf3</td>\n",
       "      <td>2021-06-17 18:55:12.949015</td>\n",
       "      <td>purchase_success</td>\n",
       "      <td>4U/VWP7DGGo1qnzwGJIo4w==</td>\n",
       "      <td>119000.0</td>\n",
       "      <td>잡화</td>\n",
       "      <td>가방</td>\n",
       "      <td>크로스백</td>\n",
       "      <td>1854.0</td>\n",
       "      <td>sweetch</td>\n",
       "      <td>2021-06-17</td>\n",
       "      <td>18:55:12.949015</td>\n",
       "    </tr>\n",
       "    <tr>\n",
       "      <th>32041</th>\n",
       "      <td>+++T9c17sr6wEYOy9UFv3w==</td>\n",
       "      <td>1989</td>\n",
       "      <td>M</td>\n",
       "      <td>e4da3b7fbbce2345d7772b0674a318d5</td>\n",
       "      <td>2021-07-03 17:51:26.43805</td>\n",
       "      <td>purchase_success</td>\n",
       "      <td>YEjZMGbns5O/UUpvrSI7lg==</td>\n",
       "      <td>65800.0</td>\n",
       "      <td>의류</td>\n",
       "      <td>상의</td>\n",
       "      <td>티셔츠</td>\n",
       "      <td>9173.0</td>\n",
       "      <td>ALVINCLO</td>\n",
       "      <td>2021-07-03</td>\n",
       "      <td>17:51:26.43805</td>\n",
       "    </tr>\n",
       "    <tr>\n",
       "      <th>197624</th>\n",
       "      <td>+++aQH5NnhiU/9qECKk3uQ==</td>\n",
       "      <td>1990</td>\n",
       "      <td>M</td>\n",
       "      <td>d3d9446802a44259755d38e6d163e820</td>\n",
       "      <td>2021-06-10 05:28:41.028191</td>\n",
       "      <td>purchase_success</td>\n",
       "      <td>3z7p8MvzYlnyGkXfK6GJzw==</td>\n",
       "      <td>95000.0</td>\n",
       "      <td>의류</td>\n",
       "      <td>하의</td>\n",
       "      <td>스커트</td>\n",
       "      <td>14719.0</td>\n",
       "      <td>bernardmills</td>\n",
       "      <td>2021-06-10</td>\n",
       "      <td>05:28:41.028191</td>\n",
       "    </tr>\n",
       "    <tr>\n",
       "      <th>...</th>\n",
       "      <td>...</td>\n",
       "      <td>...</td>\n",
       "      <td>...</td>\n",
       "      <td>...</td>\n",
       "      <td>...</td>\n",
       "      <td>...</td>\n",
       "      <td>...</td>\n",
       "      <td>...</td>\n",
       "      <td>...</td>\n",
       "      <td>...</td>\n",
       "      <td>...</td>\n",
       "      <td>...</td>\n",
       "      <td>...</td>\n",
       "      <td>...</td>\n",
       "      <td>...</td>\n",
       "    </tr>\n",
       "    <tr>\n",
       "      <th>98100</th>\n",
       "      <td>zzq8skPzbmsxokOi5tkZQQ==</td>\n",
       "      <td>1983</td>\n",
       "      <td>M</td>\n",
       "      <td>f8af46ad73ac9ffcad31eba9a889301b</td>\n",
       "      <td>2021-08-01 09:09:00.863038</td>\n",
       "      <td>purchase_success</td>\n",
       "      <td>h+X6gkYug2jEoMLDlHRqUQ==</td>\n",
       "      <td>79000.0</td>\n",
       "      <td>의류</td>\n",
       "      <td>하의</td>\n",
       "      <td>바지</td>\n",
       "      <td>13472.0</td>\n",
       "      <td>nought</td>\n",
       "      <td>2021-08-01</td>\n",
       "      <td>09:09:00.863038</td>\n",
       "    </tr>\n",
       "    <tr>\n",
       "      <th>98101</th>\n",
       "      <td>zzq8skPzbmsxokOi5tkZQQ==</td>\n",
       "      <td>1983</td>\n",
       "      <td>M</td>\n",
       "      <td>f8af46ad73ac9ffcad31eba9a889301b</td>\n",
       "      <td>2021-08-01 09:09:00.864039</td>\n",
       "      <td>purchase_success</td>\n",
       "      <td>B65b1OTj4CuhYHWNP2dMEQ==</td>\n",
       "      <td>108000.0</td>\n",
       "      <td>의류</td>\n",
       "      <td>상의</td>\n",
       "      <td>니트/스웨터</td>\n",
       "      <td>3951.0</td>\n",
       "      <td>Youth</td>\n",
       "      <td>2021-08-01</td>\n",
       "      <td>09:09:00.864039</td>\n",
       "    </tr>\n",
       "    <tr>\n",
       "      <th>263132</th>\n",
       "      <td>zzzWx+6Z3L2IRJBTgvBs5g==</td>\n",
       "      <td>1994</td>\n",
       "      <td>M</td>\n",
       "      <td>ba26b3c58cb9a591d68ad8fb78b468f7</td>\n",
       "      <td>2021-06-15 17:04:26.205004</td>\n",
       "      <td>purchase_success</td>\n",
       "      <td>b9M/fPRnkCuV9cSaw0cp3w==</td>\n",
       "      <td>87000.0</td>\n",
       "      <td>의류</td>\n",
       "      <td>상의</td>\n",
       "      <td>셔츠/블라우스</td>\n",
       "      <td>2219.0</td>\n",
       "      <td>ANOTHEROFFICE</td>\n",
       "      <td>2021-06-15</td>\n",
       "      <td>17:04:26.205004</td>\n",
       "    </tr>\n",
       "    <tr>\n",
       "      <th>263133</th>\n",
       "      <td>zzzWx+6Z3L2IRJBTgvBs5g==</td>\n",
       "      <td>1994</td>\n",
       "      <td>M</td>\n",
       "      <td>ba26b3c58cb9a591d68ad8fb78b468f7</td>\n",
       "      <td>2021-06-15 17:04:26.206005</td>\n",
       "      <td>purchase_success</td>\n",
       "      <td>9ltNUyvoS0mvECvQtrGBVw==</td>\n",
       "      <td>87000.0</td>\n",
       "      <td>의류</td>\n",
       "      <td>상의</td>\n",
       "      <td>셔츠/블라우스</td>\n",
       "      <td>2219.0</td>\n",
       "      <td>ANOTHEROFFICE</td>\n",
       "      <td>2021-06-15</td>\n",
       "      <td>17:04:26.206005</td>\n",
       "    </tr>\n",
       "    <tr>\n",
       "      <th>263134</th>\n",
       "      <td>zzzWx+6Z3L2IRJBTgvBs5g==</td>\n",
       "      <td>1994</td>\n",
       "      <td>M</td>\n",
       "      <td>23b97dc3b2fc80c1924d28c53164351a</td>\n",
       "      <td>2021-07-04 00:25:00.662004</td>\n",
       "      <td>purchase_success</td>\n",
       "      <td>qnG9YZ0unGLOvlBe5KpbEQ==</td>\n",
       "      <td>69000.0</td>\n",
       "      <td>의류</td>\n",
       "      <td>상의</td>\n",
       "      <td>니트/스웨터</td>\n",
       "      <td>6882.0</td>\n",
       "      <td>Steady Every Wear</td>\n",
       "      <td>2021-07-04</td>\n",
       "      <td>00:25:00.662004</td>\n",
       "    </tr>\n",
       "  </tbody>\n",
       "</table>\n",
       "<p>262186 rows × 15 columns</p>\n",
       "</div>"
      ],
      "text/plain": [
       "                         user_no  year generation  \\\n",
       "32038   +++T9c17sr6wEYOy9UFv3w==  1989          M   \n",
       "32039   +++T9c17sr6wEYOy9UFv3w==  1989          M   \n",
       "32040   +++T9c17sr6wEYOy9UFv3w==  1989          M   \n",
       "32041   +++T9c17sr6wEYOy9UFv3w==  1989          M   \n",
       "197624  +++aQH5NnhiU/9qECKk3uQ==  1990          M   \n",
       "...                          ...   ...        ...   \n",
       "98100   zzq8skPzbmsxokOi5tkZQQ==  1983          M   \n",
       "98101   zzq8skPzbmsxokOi5tkZQQ==  1983          M   \n",
       "263132  zzzWx+6Z3L2IRJBTgvBs5g==  1994          M   \n",
       "263133  zzzWx+6Z3L2IRJBTgvBs5g==  1994          M   \n",
       "263134  zzzWx+6Z3L2IRJBTgvBs5g==  1994          M   \n",
       "\n",
       "                              session_id             event_timestamp  \\\n",
       "32038   c4ca4238a0b923820dcc509a6f75849b  2021-06-15 16:07:45.863056   \n",
       "32039   c81e728d9d4c2f636f067f89cc14862c  2021-06-16 15:27:03.492053   \n",
       "32040   eccbc87e4b5ce2fe28308fd9f2a7baf3  2021-06-17 18:55:12.949015   \n",
       "32041   e4da3b7fbbce2345d7772b0674a318d5   2021-07-03 17:51:26.43805   \n",
       "197624  d3d9446802a44259755d38e6d163e820  2021-06-10 05:28:41.028191   \n",
       "...                                  ...                         ...   \n",
       "98100   f8af46ad73ac9ffcad31eba9a889301b  2021-08-01 09:09:00.863038   \n",
       "98101   f8af46ad73ac9ffcad31eba9a889301b  2021-08-01 09:09:00.864039   \n",
       "263132  ba26b3c58cb9a591d68ad8fb78b468f7  2021-06-15 17:04:26.205004   \n",
       "263133  ba26b3c58cb9a591d68ad8fb78b468f7  2021-06-15 17:04:26.206005   \n",
       "263134  23b97dc3b2fc80c1924d28c53164351a  2021-07-04 00:25:00.662004   \n",
       "\n",
       "              event_name                   item_no     price category1_name  \\\n",
       "32038   purchase_success  f4eCC27uv5KkL4VhuUtesg==   33900.0             의류   \n",
       "32039   purchase_success  vcWOTezeI0B73VqR9bPsBw==   55800.0             의류   \n",
       "32040   purchase_success  4U/VWP7DGGo1qnzwGJIo4w==  119000.0             잡화   \n",
       "32041   purchase_success  YEjZMGbns5O/UUpvrSI7lg==   65800.0             의류   \n",
       "197624  purchase_success  3z7p8MvzYlnyGkXfK6GJzw==   95000.0             의류   \n",
       "...                  ...                       ...       ...            ...   \n",
       "98100   purchase_success  h+X6gkYug2jEoMLDlHRqUQ==   79000.0             의류   \n",
       "98101   purchase_success  B65b1OTj4CuhYHWNP2dMEQ==  108000.0             의류   \n",
       "263132  purchase_success  b9M/fPRnkCuV9cSaw0cp3w==   87000.0             의류   \n",
       "263133  purchase_success  9ltNUyvoS0mvECvQtrGBVw==   87000.0             의류   \n",
       "263134  purchase_success  qnG9YZ0unGLOvlBe5KpbEQ==   69000.0             의류   \n",
       "\n",
       "       category2_name category3_name  brand_no         brand_name        date  \\\n",
       "32038              상의            티셔츠    9173.0           ALVINCLO  2021-06-15   \n",
       "32039              하의             바지    7939.0         WV PROJECT  2021-06-16   \n",
       "32040              가방           크로스백    1854.0            sweetch  2021-06-17   \n",
       "32041              상의            티셔츠    9173.0           ALVINCLO  2021-07-03   \n",
       "197624             하의            스커트   14719.0       bernardmills  2021-06-10   \n",
       "...               ...            ...       ...                ...         ...   \n",
       "98100              하의             바지   13472.0             nought  2021-08-01   \n",
       "98101              상의         니트/스웨터    3951.0              Youth  2021-08-01   \n",
       "263132             상의        셔츠/블라우스    2219.0      ANOTHEROFFICE  2021-06-15   \n",
       "263133             상의        셔츠/블라우스    2219.0      ANOTHEROFFICE  2021-06-15   \n",
       "263134             상의         니트/스웨터    6882.0  Steady Every Wear  2021-07-04   \n",
       "\n",
       "                   time  \n",
       "32038   16:07:45.863056  \n",
       "32039   15:27:03.492053  \n",
       "32040   18:55:12.949015  \n",
       "32041    17:51:26.43805  \n",
       "197624  05:28:41.028191  \n",
       "...                 ...  \n",
       "98100   09:09:00.863038  \n",
       "98101   09:09:00.864039  \n",
       "263132  17:04:26.205004  \n",
       "263133  17:04:26.206005  \n",
       "263134  00:25:00.662004  \n",
       "\n",
       "[262186 rows x 15 columns]"
      ]
     },
     "execution_count": 124,
     "metadata": {},
     "output_type": "execute_result"
    }
   ],
   "source": [
    "ddf = ddf.sort_values(by=['user_no', 'date'])\n",
    "ddf"
   ]
  },
  {
   "cell_type": "code",
   "execution_count": 125,
   "id": "2645d894",
   "metadata": {
    "scrolled": true
   },
   "outputs": [
    {
     "data": {
      "text/html": [
       "<div>\n",
       "<style scoped>\n",
       "    .dataframe tbody tr th:only-of-type {\n",
       "        vertical-align: middle;\n",
       "    }\n",
       "\n",
       "    .dataframe tbody tr th {\n",
       "        vertical-align: top;\n",
       "    }\n",
       "\n",
       "    .dataframe thead th {\n",
       "        text-align: right;\n",
       "    }\n",
       "</style>\n",
       "<table border=\"1\" class=\"dataframe\">\n",
       "  <thead>\n",
       "    <tr style=\"text-align: right;\">\n",
       "      <th></th>\n",
       "      <th>user_no</th>\n",
       "      <th>year</th>\n",
       "      <th>generation</th>\n",
       "      <th>session_id</th>\n",
       "      <th>event_timestamp</th>\n",
       "      <th>event_name</th>\n",
       "      <th>item_no</th>\n",
       "      <th>price</th>\n",
       "      <th>category1_name</th>\n",
       "      <th>category2_name</th>\n",
       "      <th>category3_name</th>\n",
       "      <th>brand_no</th>\n",
       "      <th>brand_name</th>\n",
       "      <th>date</th>\n",
       "      <th>time</th>\n",
       "      <th>next_purchase</th>\n",
       "    </tr>\n",
       "  </thead>\n",
       "  <tbody>\n",
       "    <tr>\n",
       "      <th>32038</th>\n",
       "      <td>+++T9c17sr6wEYOy9UFv3w==</td>\n",
       "      <td>1989</td>\n",
       "      <td>M</td>\n",
       "      <td>c4ca4238a0b923820dcc509a6f75849b</td>\n",
       "      <td>2021-06-15 16:07:45.863056</td>\n",
       "      <td>purchase_success</td>\n",
       "      <td>f4eCC27uv5KkL4VhuUtesg==</td>\n",
       "      <td>33900.0</td>\n",
       "      <td>의류</td>\n",
       "      <td>상의</td>\n",
       "      <td>티셔츠</td>\n",
       "      <td>9173.0</td>\n",
       "      <td>ALVINCLO</td>\n",
       "      <td>2021-06-15</td>\n",
       "      <td>16:07:45.863056</td>\n",
       "      <td>2021-06-16</td>\n",
       "    </tr>\n",
       "    <tr>\n",
       "      <th>32039</th>\n",
       "      <td>+++T9c17sr6wEYOy9UFv3w==</td>\n",
       "      <td>1989</td>\n",
       "      <td>M</td>\n",
       "      <td>c81e728d9d4c2f636f067f89cc14862c</td>\n",
       "      <td>2021-06-16 15:27:03.492053</td>\n",
       "      <td>purchase_success</td>\n",
       "      <td>vcWOTezeI0B73VqR9bPsBw==</td>\n",
       "      <td>55800.0</td>\n",
       "      <td>의류</td>\n",
       "      <td>하의</td>\n",
       "      <td>바지</td>\n",
       "      <td>7939.0</td>\n",
       "      <td>WV PROJECT</td>\n",
       "      <td>2021-06-16</td>\n",
       "      <td>15:27:03.492053</td>\n",
       "      <td>2021-06-17</td>\n",
       "    </tr>\n",
       "    <tr>\n",
       "      <th>32040</th>\n",
       "      <td>+++T9c17sr6wEYOy9UFv3w==</td>\n",
       "      <td>1989</td>\n",
       "      <td>M</td>\n",
       "      <td>eccbc87e4b5ce2fe28308fd9f2a7baf3</td>\n",
       "      <td>2021-06-17 18:55:12.949015</td>\n",
       "      <td>purchase_success</td>\n",
       "      <td>4U/VWP7DGGo1qnzwGJIo4w==</td>\n",
       "      <td>119000.0</td>\n",
       "      <td>잡화</td>\n",
       "      <td>가방</td>\n",
       "      <td>크로스백</td>\n",
       "      <td>1854.0</td>\n",
       "      <td>sweetch</td>\n",
       "      <td>2021-06-17</td>\n",
       "      <td>18:55:12.949015</td>\n",
       "      <td>2021-07-03</td>\n",
       "    </tr>\n",
       "    <tr>\n",
       "      <th>32041</th>\n",
       "      <td>+++T9c17sr6wEYOy9UFv3w==</td>\n",
       "      <td>1989</td>\n",
       "      <td>M</td>\n",
       "      <td>e4da3b7fbbce2345d7772b0674a318d5</td>\n",
       "      <td>2021-07-03 17:51:26.43805</td>\n",
       "      <td>purchase_success</td>\n",
       "      <td>YEjZMGbns5O/UUpvrSI7lg==</td>\n",
       "      <td>65800.0</td>\n",
       "      <td>의류</td>\n",
       "      <td>상의</td>\n",
       "      <td>티셔츠</td>\n",
       "      <td>9173.0</td>\n",
       "      <td>ALVINCLO</td>\n",
       "      <td>2021-07-03</td>\n",
       "      <td>17:51:26.43805</td>\n",
       "      <td>NaN</td>\n",
       "    </tr>\n",
       "    <tr>\n",
       "      <th>197624</th>\n",
       "      <td>+++aQH5NnhiU/9qECKk3uQ==</td>\n",
       "      <td>1990</td>\n",
       "      <td>M</td>\n",
       "      <td>d3d9446802a44259755d38e6d163e820</td>\n",
       "      <td>2021-06-10 05:28:41.028191</td>\n",
       "      <td>purchase_success</td>\n",
       "      <td>3z7p8MvzYlnyGkXfK6GJzw==</td>\n",
       "      <td>95000.0</td>\n",
       "      <td>의류</td>\n",
       "      <td>하의</td>\n",
       "      <td>스커트</td>\n",
       "      <td>14719.0</td>\n",
       "      <td>bernardmills</td>\n",
       "      <td>2021-06-10</td>\n",
       "      <td>05:28:41.028191</td>\n",
       "      <td>2021-06-21</td>\n",
       "    </tr>\n",
       "    <tr>\n",
       "      <th>...</th>\n",
       "      <td>...</td>\n",
       "      <td>...</td>\n",
       "      <td>...</td>\n",
       "      <td>...</td>\n",
       "      <td>...</td>\n",
       "      <td>...</td>\n",
       "      <td>...</td>\n",
       "      <td>...</td>\n",
       "      <td>...</td>\n",
       "      <td>...</td>\n",
       "      <td>...</td>\n",
       "      <td>...</td>\n",
       "      <td>...</td>\n",
       "      <td>...</td>\n",
       "      <td>...</td>\n",
       "      <td>...</td>\n",
       "    </tr>\n",
       "    <tr>\n",
       "      <th>98100</th>\n",
       "      <td>zzq8skPzbmsxokOi5tkZQQ==</td>\n",
       "      <td>1983</td>\n",
       "      <td>M</td>\n",
       "      <td>f8af46ad73ac9ffcad31eba9a889301b</td>\n",
       "      <td>2021-08-01 09:09:00.863038</td>\n",
       "      <td>purchase_success</td>\n",
       "      <td>h+X6gkYug2jEoMLDlHRqUQ==</td>\n",
       "      <td>79000.0</td>\n",
       "      <td>의류</td>\n",
       "      <td>하의</td>\n",
       "      <td>바지</td>\n",
       "      <td>13472.0</td>\n",
       "      <td>nought</td>\n",
       "      <td>2021-08-01</td>\n",
       "      <td>09:09:00.863038</td>\n",
       "      <td>2021-08-01</td>\n",
       "    </tr>\n",
       "    <tr>\n",
       "      <th>98101</th>\n",
       "      <td>zzq8skPzbmsxokOi5tkZQQ==</td>\n",
       "      <td>1983</td>\n",
       "      <td>M</td>\n",
       "      <td>f8af46ad73ac9ffcad31eba9a889301b</td>\n",
       "      <td>2021-08-01 09:09:00.864039</td>\n",
       "      <td>purchase_success</td>\n",
       "      <td>B65b1OTj4CuhYHWNP2dMEQ==</td>\n",
       "      <td>108000.0</td>\n",
       "      <td>의류</td>\n",
       "      <td>상의</td>\n",
       "      <td>니트/스웨터</td>\n",
       "      <td>3951.0</td>\n",
       "      <td>Youth</td>\n",
       "      <td>2021-08-01</td>\n",
       "      <td>09:09:00.864039</td>\n",
       "      <td>NaN</td>\n",
       "    </tr>\n",
       "    <tr>\n",
       "      <th>263132</th>\n",
       "      <td>zzzWx+6Z3L2IRJBTgvBs5g==</td>\n",
       "      <td>1994</td>\n",
       "      <td>M</td>\n",
       "      <td>ba26b3c58cb9a591d68ad8fb78b468f7</td>\n",
       "      <td>2021-06-15 17:04:26.205004</td>\n",
       "      <td>purchase_success</td>\n",
       "      <td>b9M/fPRnkCuV9cSaw0cp3w==</td>\n",
       "      <td>87000.0</td>\n",
       "      <td>의류</td>\n",
       "      <td>상의</td>\n",
       "      <td>셔츠/블라우스</td>\n",
       "      <td>2219.0</td>\n",
       "      <td>ANOTHEROFFICE</td>\n",
       "      <td>2021-06-15</td>\n",
       "      <td>17:04:26.205004</td>\n",
       "      <td>2021-06-15</td>\n",
       "    </tr>\n",
       "    <tr>\n",
       "      <th>263133</th>\n",
       "      <td>zzzWx+6Z3L2IRJBTgvBs5g==</td>\n",
       "      <td>1994</td>\n",
       "      <td>M</td>\n",
       "      <td>ba26b3c58cb9a591d68ad8fb78b468f7</td>\n",
       "      <td>2021-06-15 17:04:26.206005</td>\n",
       "      <td>purchase_success</td>\n",
       "      <td>9ltNUyvoS0mvECvQtrGBVw==</td>\n",
       "      <td>87000.0</td>\n",
       "      <td>의류</td>\n",
       "      <td>상의</td>\n",
       "      <td>셔츠/블라우스</td>\n",
       "      <td>2219.0</td>\n",
       "      <td>ANOTHEROFFICE</td>\n",
       "      <td>2021-06-15</td>\n",
       "      <td>17:04:26.206005</td>\n",
       "      <td>2021-07-04</td>\n",
       "    </tr>\n",
       "    <tr>\n",
       "      <th>263134</th>\n",
       "      <td>zzzWx+6Z3L2IRJBTgvBs5g==</td>\n",
       "      <td>1994</td>\n",
       "      <td>M</td>\n",
       "      <td>23b97dc3b2fc80c1924d28c53164351a</td>\n",
       "      <td>2021-07-04 00:25:00.662004</td>\n",
       "      <td>purchase_success</td>\n",
       "      <td>qnG9YZ0unGLOvlBe5KpbEQ==</td>\n",
       "      <td>69000.0</td>\n",
       "      <td>의류</td>\n",
       "      <td>상의</td>\n",
       "      <td>니트/스웨터</td>\n",
       "      <td>6882.0</td>\n",
       "      <td>Steady Every Wear</td>\n",
       "      <td>2021-07-04</td>\n",
       "      <td>00:25:00.662004</td>\n",
       "      <td>NaN</td>\n",
       "    </tr>\n",
       "  </tbody>\n",
       "</table>\n",
       "<p>262186 rows × 16 columns</p>\n",
       "</div>"
      ],
      "text/plain": [
       "                         user_no  year generation  \\\n",
       "32038   +++T9c17sr6wEYOy9UFv3w==  1989          M   \n",
       "32039   +++T9c17sr6wEYOy9UFv3w==  1989          M   \n",
       "32040   +++T9c17sr6wEYOy9UFv3w==  1989          M   \n",
       "32041   +++T9c17sr6wEYOy9UFv3w==  1989          M   \n",
       "197624  +++aQH5NnhiU/9qECKk3uQ==  1990          M   \n",
       "...                          ...   ...        ...   \n",
       "98100   zzq8skPzbmsxokOi5tkZQQ==  1983          M   \n",
       "98101   zzq8skPzbmsxokOi5tkZQQ==  1983          M   \n",
       "263132  zzzWx+6Z3L2IRJBTgvBs5g==  1994          M   \n",
       "263133  zzzWx+6Z3L2IRJBTgvBs5g==  1994          M   \n",
       "263134  zzzWx+6Z3L2IRJBTgvBs5g==  1994          M   \n",
       "\n",
       "                              session_id             event_timestamp  \\\n",
       "32038   c4ca4238a0b923820dcc509a6f75849b  2021-06-15 16:07:45.863056   \n",
       "32039   c81e728d9d4c2f636f067f89cc14862c  2021-06-16 15:27:03.492053   \n",
       "32040   eccbc87e4b5ce2fe28308fd9f2a7baf3  2021-06-17 18:55:12.949015   \n",
       "32041   e4da3b7fbbce2345d7772b0674a318d5   2021-07-03 17:51:26.43805   \n",
       "197624  d3d9446802a44259755d38e6d163e820  2021-06-10 05:28:41.028191   \n",
       "...                                  ...                         ...   \n",
       "98100   f8af46ad73ac9ffcad31eba9a889301b  2021-08-01 09:09:00.863038   \n",
       "98101   f8af46ad73ac9ffcad31eba9a889301b  2021-08-01 09:09:00.864039   \n",
       "263132  ba26b3c58cb9a591d68ad8fb78b468f7  2021-06-15 17:04:26.205004   \n",
       "263133  ba26b3c58cb9a591d68ad8fb78b468f7  2021-06-15 17:04:26.206005   \n",
       "263134  23b97dc3b2fc80c1924d28c53164351a  2021-07-04 00:25:00.662004   \n",
       "\n",
       "              event_name                   item_no     price category1_name  \\\n",
       "32038   purchase_success  f4eCC27uv5KkL4VhuUtesg==   33900.0             의류   \n",
       "32039   purchase_success  vcWOTezeI0B73VqR9bPsBw==   55800.0             의류   \n",
       "32040   purchase_success  4U/VWP7DGGo1qnzwGJIo4w==  119000.0             잡화   \n",
       "32041   purchase_success  YEjZMGbns5O/UUpvrSI7lg==   65800.0             의류   \n",
       "197624  purchase_success  3z7p8MvzYlnyGkXfK6GJzw==   95000.0             의류   \n",
       "...                  ...                       ...       ...            ...   \n",
       "98100   purchase_success  h+X6gkYug2jEoMLDlHRqUQ==   79000.0             의류   \n",
       "98101   purchase_success  B65b1OTj4CuhYHWNP2dMEQ==  108000.0             의류   \n",
       "263132  purchase_success  b9M/fPRnkCuV9cSaw0cp3w==   87000.0             의류   \n",
       "263133  purchase_success  9ltNUyvoS0mvECvQtrGBVw==   87000.0             의류   \n",
       "263134  purchase_success  qnG9YZ0unGLOvlBe5KpbEQ==   69000.0             의류   \n",
       "\n",
       "       category2_name category3_name  brand_no         brand_name        date  \\\n",
       "32038              상의            티셔츠    9173.0           ALVINCLO  2021-06-15   \n",
       "32039              하의             바지    7939.0         WV PROJECT  2021-06-16   \n",
       "32040              가방           크로스백    1854.0            sweetch  2021-06-17   \n",
       "32041              상의            티셔츠    9173.0           ALVINCLO  2021-07-03   \n",
       "197624             하의            스커트   14719.0       bernardmills  2021-06-10   \n",
       "...               ...            ...       ...                ...         ...   \n",
       "98100              하의             바지   13472.0             nought  2021-08-01   \n",
       "98101              상의         니트/스웨터    3951.0              Youth  2021-08-01   \n",
       "263132             상의        셔츠/블라우스    2219.0      ANOTHEROFFICE  2021-06-15   \n",
       "263133             상의        셔츠/블라우스    2219.0      ANOTHEROFFICE  2021-06-15   \n",
       "263134             상의         니트/스웨터    6882.0  Steady Every Wear  2021-07-04   \n",
       "\n",
       "                   time next_purchase  \n",
       "32038   16:07:45.863056    2021-06-16  \n",
       "32039   15:27:03.492053    2021-06-17  \n",
       "32040   18:55:12.949015    2021-07-03  \n",
       "32041    17:51:26.43805           NaN  \n",
       "197624  05:28:41.028191    2021-06-21  \n",
       "...                 ...           ...  \n",
       "98100   09:09:00.863038    2021-08-01  \n",
       "98101   09:09:00.864039           NaN  \n",
       "263132  17:04:26.205004    2021-06-15  \n",
       "263133  17:04:26.206005    2021-07-04  \n",
       "263134  00:25:00.662004           NaN  \n",
       "\n",
       "[262186 rows x 16 columns]"
      ]
     },
     "execution_count": 125,
     "metadata": {},
     "output_type": "execute_result"
    }
   ],
   "source": [
    "# user_no기준으로 date를 앞으로 한칸씩 당겨옴 \n",
    "ddf['next_purchase'] = ddf.groupby(by=\"user_no\")[\"date\"].shift(-1)\n",
    "ddf"
   ]
  },
  {
   "cell_type": "code",
   "execution_count": 126,
   "id": "16bbc0fb",
   "metadata": {},
   "outputs": [],
   "source": [
    "# user_no 기준 재구매 하지 않은 사람들 제거 \n",
    "ddf2 = ddf.dropna(subset=['next_purchase'])"
   ]
  },
  {
   "cell_type": "code",
   "execution_count": 127,
   "id": "aa2232c8",
   "metadata": {},
   "outputs": [
    {
     "name": "stderr",
     "output_type": "stream",
     "text": [
      "/var/folders/_m/cn5hgvpd2zv9jwrd8sdt55ch0000gn/T/ipykernel_1615/3864362031.py:2: SettingWithCopyWarning: \n",
      "A value is trying to be set on a copy of a slice from a DataFrame.\n",
      "Try using .loc[row_indexer,col_indexer] = value instead\n",
      "\n",
      "See the caveats in the documentation: https://pandas.pydata.org/pandas-docs/stable/user_guide/indexing.html#returning-a-view-versus-a-copy\n",
      "  ddf2['date'] = pd.to_datetime(ddf2['date'])\n",
      "/var/folders/_m/cn5hgvpd2zv9jwrd8sdt55ch0000gn/T/ipykernel_1615/3864362031.py:3: SettingWithCopyWarning: \n",
      "A value is trying to be set on a copy of a slice from a DataFrame.\n",
      "Try using .loc[row_indexer,col_indexer] = value instead\n",
      "\n",
      "See the caveats in the documentation: https://pandas.pydata.org/pandas-docs/stable/user_guide/indexing.html#returning-a-view-versus-a-copy\n",
      "  ddf2['next_purchase'] = pd.to_datetime(ddf2['next_purchase'])\n",
      "/var/folders/_m/cn5hgvpd2zv9jwrd8sdt55ch0000gn/T/ipykernel_1615/3864362031.py:5: SettingWithCopyWarning: \n",
      "A value is trying to be set on a copy of a slice from a DataFrame.\n",
      "Try using .loc[row_indexer,col_indexer] = value instead\n",
      "\n",
      "See the caveats in the documentation: https://pandas.pydata.org/pandas-docs/stable/user_guide/indexing.html#returning-a-view-versus-a-copy\n",
      "  ddf2['purchase_date_diff']=ddf2['next_purchase']-ddf2['date']\n"
     ]
    }
   ],
   "source": [
    "# 계산을 위해 타입을 날짜로 변환\n",
    "ddf2['date'] = pd.to_datetime(ddf2['date'])\n",
    "ddf2['next_purchase'] = pd.to_datetime(ddf2['next_purchase'])\n",
    "# purchase_date_diff 컬럼 생성 \n",
    "ddf2['purchase_date_diff']=ddf2['next_purchase']-ddf2['date']\n"
   ]
  },
  {
   "cell_type": "code",
   "execution_count": 128,
   "id": "5b2e5452",
   "metadata": {},
   "outputs": [
    {
     "data": {
      "text/plain": [
       "118729"
      ]
     },
     "execution_count": 128,
     "metadata": {},
     "output_type": "execute_result"
    }
   ],
   "source": [
    "# 당일에 재구매한것은 분리 \n",
    "df_0days = ddf2[ddf2['purchase_date_diff']== '0 days']\n",
    "df_0days.shape[0]"
   ]
  },
  {
   "cell_type": "code",
   "execution_count": 155,
   "id": "a890abcf",
   "metadata": {},
   "outputs": [
    {
     "data": {
      "text/plain": [
       "1 days     1906\n",
       "2 days     1294\n",
       "3 days     1124\n",
       "4 days     1053\n",
       "5 days      842\n",
       "           ... \n",
       "57 days       9\n",
       "58 days      19\n",
       "59 days       8\n",
       "60 days       4\n",
       "61 days       1\n",
       "Name: purchase_date_diff, Length: 61, dtype: int64"
      ]
     },
     "execution_count": 155,
     "metadata": {},
     "output_type": "execute_result"
    }
   ],
   "source": [
    "# 재구매 유저 그룹 분리\n",
    "df_m_ndays = ddf2.drop(df_0days.index) # 당일 재구매 제외\n",
    "df_m_ndays['purchase_date_diff'].value_counts().sort_index()"
   ]
  },
  {
   "cell_type": "code",
   "execution_count": 156,
   "id": "f50a67cc",
   "metadata": {},
   "outputs": [],
   "source": [
    "# 계산을 위해 date_diff의 타입을 timedelta64에서 int로 변환\n",
    "df_m_ndays['purchase_date_diff'] = df_m_ndays['purchase_date_diff'].dt.days"
   ]
  },
  {
   "cell_type": "code",
   "execution_count": 157,
   "id": "5f84ac0b",
   "metadata": {},
   "outputs": [
    {
     "data": {
      "text/html": [
       "<div>\n",
       "<style scoped>\n",
       "    .dataframe tbody tr th:only-of-type {\n",
       "        vertical-align: middle;\n",
       "    }\n",
       "\n",
       "    .dataframe tbody tr th {\n",
       "        vertical-align: top;\n",
       "    }\n",
       "\n",
       "    .dataframe thead th {\n",
       "        text-align: right;\n",
       "    }\n",
       "</style>\n",
       "<table border=\"1\" class=\"dataframe\">\n",
       "  <thead>\n",
       "    <tr style=\"text-align: right;\">\n",
       "      <th></th>\n",
       "      <th>year</th>\n",
       "      <th>price</th>\n",
       "      <th>brand_no</th>\n",
       "      <th>purchase_date_diff</th>\n",
       "    </tr>\n",
       "    <tr>\n",
       "      <th>user_no</th>\n",
       "      <th></th>\n",
       "      <th></th>\n",
       "      <th></th>\n",
       "      <th></th>\n",
       "    </tr>\n",
       "  </thead>\n",
       "  <tbody>\n",
       "    <tr>\n",
       "      <th>++KVqHvNPHvp3LL9SkuL8A==</th>\n",
       "      <td>2004.0</td>\n",
       "      <td>73950.000000</td>\n",
       "      <td>9669.5</td>\n",
       "      <td>24.0</td>\n",
       "    </tr>\n",
       "    <tr>\n",
       "      <th>+00VohIjKv9IBNiMTZXFiA==</th>\n",
       "      <td>1997.0</td>\n",
       "      <td>99000.000000</td>\n",
       "      <td>3797.0</td>\n",
       "      <td>20.0</td>\n",
       "    </tr>\n",
       "    <tr>\n",
       "      <th>+0pt8KO8US1de0l0pHbSKA==</th>\n",
       "      <td>2000.0</td>\n",
       "      <td>45000.000000</td>\n",
       "      <td>7730.0</td>\n",
       "      <td>28.0</td>\n",
       "    </tr>\n",
       "    <tr>\n",
       "      <th>+1Mr7TyOhb/FqQdRYdBQCg==</th>\n",
       "      <td>1997.0</td>\n",
       "      <td>68000.000000</td>\n",
       "      <td>12252.0</td>\n",
       "      <td>1.0</td>\n",
       "    </tr>\n",
       "    <tr>\n",
       "      <th>+1QDACW9qACZkfLQO+HdrQ==</th>\n",
       "      <td>1998.0</td>\n",
       "      <td>121666.666667</td>\n",
       "      <td>7385.0</td>\n",
       "      <td>5.0</td>\n",
       "    </tr>\n",
       "    <tr>\n",
       "      <th>...</th>\n",
       "      <td>...</td>\n",
       "      <td>...</td>\n",
       "      <td>...</td>\n",
       "      <td>...</td>\n",
       "    </tr>\n",
       "    <tr>\n",
       "      <th>zz3Ar6DD99dqzB75w7zdxw==</th>\n",
       "      <td>1998.0</td>\n",
       "      <td>60000.000000</td>\n",
       "      <td>3360.0</td>\n",
       "      <td>16.5</td>\n",
       "    </tr>\n",
       "    <tr>\n",
       "      <th>zzFuhUOnokFb9Vgp98ucrA==</th>\n",
       "      <td>1997.0</td>\n",
       "      <td>15500.000000</td>\n",
       "      <td>8077.0</td>\n",
       "      <td>3.0</td>\n",
       "    </tr>\n",
       "    <tr>\n",
       "      <th>zzKWo6xuFSRROk3YcF7lZA==</th>\n",
       "      <td>2000.0</td>\n",
       "      <td>42000.000000</td>\n",
       "      <td>3689.0</td>\n",
       "      <td>20.0</td>\n",
       "    </tr>\n",
       "    <tr>\n",
       "      <th>zzLGF7vXyODnAkQWIcqX0g==</th>\n",
       "      <td>1996.0</td>\n",
       "      <td>175500.000000</td>\n",
       "      <td>12305.5</td>\n",
       "      <td>13.5</td>\n",
       "    </tr>\n",
       "    <tr>\n",
       "      <th>zzeo6R7eqUsMpsllzG1Xbw==</th>\n",
       "      <td>1997.0</td>\n",
       "      <td>69000.000000</td>\n",
       "      <td>2350.0</td>\n",
       "      <td>8.0</td>\n",
       "    </tr>\n",
       "  </tbody>\n",
       "</table>\n",
       "<p>10060 rows × 4 columns</p>\n",
       "</div>"
      ],
      "text/plain": [
       "                            year          price  brand_no  purchase_date_diff\n",
       "user_no                                                                      \n",
       "++KVqHvNPHvp3LL9SkuL8A==  2004.0   73950.000000    9669.5                24.0\n",
       "+00VohIjKv9IBNiMTZXFiA==  1997.0   99000.000000    3797.0                20.0\n",
       "+0pt8KO8US1de0l0pHbSKA==  2000.0   45000.000000    7730.0                28.0\n",
       "+1Mr7TyOhb/FqQdRYdBQCg==  1997.0   68000.000000   12252.0                 1.0\n",
       "+1QDACW9qACZkfLQO+HdrQ==  1998.0  121666.666667    7385.0                 5.0\n",
       "...                          ...            ...       ...                 ...\n",
       "zz3Ar6DD99dqzB75w7zdxw==  1998.0   60000.000000    3360.0                16.5\n",
       "zzFuhUOnokFb9Vgp98ucrA==  1997.0   15500.000000    8077.0                 3.0\n",
       "zzKWo6xuFSRROk3YcF7lZA==  2000.0   42000.000000    3689.0                20.0\n",
       "zzLGF7vXyODnAkQWIcqX0g==  1996.0  175500.000000   12305.5                13.5\n",
       "zzeo6R7eqUsMpsllzG1Xbw==  1997.0   69000.000000    2350.0                 8.0\n",
       "\n",
       "[10060 rows x 4 columns]"
      ]
     },
     "execution_count": 157,
     "metadata": {},
     "output_type": "execute_result"
    }
   ],
   "source": [
    "#유저별 평균 구매일수 \n",
    "df_m_ndays.groupby('user_no').mean()"
   ]
  },
  {
   "cell_type": "code",
   "execution_count": 158,
   "id": "e40d1d28",
   "metadata": {
    "scrolled": true
   },
   "outputs": [
    {
     "data": {
      "text/plain": [
       "year                   1998.056660\n",
       "price                 61495.169111\n",
       "brand_no               7469.274281\n",
       "purchase_date_diff       15.207683\n",
       "dtype: float64"
      ]
     },
     "execution_count": 158,
     "metadata": {},
     "output_type": "execute_result"
    }
   ],
   "source": [
    "# M세대의 구매 주기 \n",
    "df_m_ndays.groupby('user_no').mean().mean()"
   ]
  },
  {
   "cell_type": "code",
   "execution_count": 133,
   "id": "811e0b02",
   "metadata": {},
   "outputs": [
    {
     "name": "stderr",
     "output_type": "stream",
     "text": [
      "/var/folders/_m/cn5hgvpd2zv9jwrd8sdt55ch0000gn/T/ipykernel_1615/979798808.py:6: SettingWithCopyWarning: \n",
      "A value is trying to be set on a copy of a slice from a DataFrame\n",
      "\n",
      "See the caveats in the documentation: https://pandas.pydata.org/pandas-docs/stable/user_guide/indexing.html#returning-a-view-versus-a-copy\n",
      "  df_z.drop_duplicates(subset=['session_id','date','time'],inplace=True)\n"
     ]
    }
   ],
   "source": [
    "## Z세대\n",
    "\n",
    "# Z세대이면서 구매성공항 데이터(df_z) 분리\n",
    "df_z = df[(df['generation']=='Z')&(df['event_name']=='purchase_success')]\n",
    "# 세션안에서 같은 날 같은 시간에 구매한 것 중복 제거 -> 한번에 두가지 제품을 구매한 경우 대비\n",
    "df_z.drop_duplicates(subset=['session_id','date','time'],inplace=True)"
   ]
  },
  {
   "cell_type": "code",
   "execution_count": 134,
   "id": "0d46f1f3",
   "metadata": {},
   "outputs": [],
   "source": [
    "## Z세대 \n",
    "ddf2 = df_z"
   ]
  },
  {
   "cell_type": "code",
   "execution_count": 135,
   "id": "297a49b3",
   "metadata": {},
   "outputs": [
    {
     "data": {
      "text/html": [
       "<div>\n",
       "<style scoped>\n",
       "    .dataframe tbody tr th:only-of-type {\n",
       "        vertical-align: middle;\n",
       "    }\n",
       "\n",
       "    .dataframe tbody tr th {\n",
       "        vertical-align: top;\n",
       "    }\n",
       "\n",
       "    .dataframe thead th {\n",
       "        text-align: right;\n",
       "    }\n",
       "</style>\n",
       "<table border=\"1\" class=\"dataframe\">\n",
       "  <thead>\n",
       "    <tr style=\"text-align: right;\">\n",
       "      <th></th>\n",
       "      <th>user_no</th>\n",
       "      <th>year</th>\n",
       "      <th>generation</th>\n",
       "      <th>session_id</th>\n",
       "      <th>event_timestamp</th>\n",
       "      <th>event_name</th>\n",
       "      <th>item_no</th>\n",
       "      <th>price</th>\n",
       "      <th>category1_name</th>\n",
       "      <th>category2_name</th>\n",
       "      <th>category3_name</th>\n",
       "      <th>brand_no</th>\n",
       "      <th>brand_name</th>\n",
       "      <th>date</th>\n",
       "      <th>time</th>\n",
       "    </tr>\n",
       "  </thead>\n",
       "  <tbody>\n",
       "    <tr>\n",
       "      <th>294924</th>\n",
       "      <td>++0bwiYVJ/TAsCpxI4UCuw==</td>\n",
       "      <td>1998</td>\n",
       "      <td>Z</td>\n",
       "      <td>1c383cd30b7c298ab50293adfecb7b18</td>\n",
       "      <td>2021-07-27 14:33:20.527011</td>\n",
       "      <td>purchase_success</td>\n",
       "      <td>1oudcHpdVAFRZB8isAnFMQ==</td>\n",
       "      <td>88000.0</td>\n",
       "      <td>의류</td>\n",
       "      <td>상의</td>\n",
       "      <td>티셔츠</td>\n",
       "      <td>7997.0</td>\n",
       "      <td>FRED PERRY APPAREL</td>\n",
       "      <td>2021-07-27</td>\n",
       "      <td>14:33:20.527011</td>\n",
       "    </tr>\n",
       "    <tr>\n",
       "      <th>305440</th>\n",
       "      <td>++2StXdzG0Bj/Kkb5EFcog==</td>\n",
       "      <td>1998</td>\n",
       "      <td>Z</td>\n",
       "      <td>d67d8ab4f4c10bf22aa353e27879133c</td>\n",
       "      <td>2021-06-29 18:49:40.928022</td>\n",
       "      <td>purchase_success</td>\n",
       "      <td>9oXAjvKXJBnVAnVqCTTgkw==</td>\n",
       "      <td>25900.0</td>\n",
       "      <td>의류</td>\n",
       "      <td>하의</td>\n",
       "      <td>바지</td>\n",
       "      <td>9621.0</td>\n",
       "      <td>JEMUT</td>\n",
       "      <td>2021-06-29</td>\n",
       "      <td>18:49:40.928022</td>\n",
       "    </tr>\n",
       "    <tr>\n",
       "      <th>273662</th>\n",
       "      <td>++2c5Jr8sOEvXXs326kLYQ==</td>\n",
       "      <td>2002</td>\n",
       "      <td>Z</td>\n",
       "      <td>3416a75f4cea9109507cacd8e2f2aefc</td>\n",
       "      <td>2021-06-19 13:27:55.277026</td>\n",
       "      <td>purchase_success</td>\n",
       "      <td>D0VWjbDA0Hn/u4LJSwVyDw==</td>\n",
       "      <td>38000.0</td>\n",
       "      <td>의류</td>\n",
       "      <td>상의</td>\n",
       "      <td>티셔츠</td>\n",
       "      <td>2477.0</td>\n",
       "      <td>NEITHERS</td>\n",
       "      <td>2021-06-19</td>\n",
       "      <td>13:27:55.277026</td>\n",
       "    </tr>\n",
       "    <tr>\n",
       "      <th>294925</th>\n",
       "      <td>++IAheYpBmhESyfIUJcnDA==</td>\n",
       "      <td>1996</td>\n",
       "      <td>Z</td>\n",
       "      <td>c042f4db68f23406c6cecf84a7ebb0fe</td>\n",
       "      <td>2021-06-23 01:31:00.192256</td>\n",
       "      <td>purchase_success</td>\n",
       "      <td>Z1WikGOivUTkUDaBjNSn1g==</td>\n",
       "      <td>23000.0</td>\n",
       "      <td>잡화</td>\n",
       "      <td>주얼리</td>\n",
       "      <td>귀걸이</td>\n",
       "      <td>9963.0</td>\n",
       "      <td>GETMEBLING</td>\n",
       "      <td>2021-06-23</td>\n",
       "      <td>01:31:00.192256</td>\n",
       "    </tr>\n",
       "    <tr>\n",
       "      <th>294926</th>\n",
       "      <td>++IAheYpBmhESyfIUJcnDA==</td>\n",
       "      <td>1996</td>\n",
       "      <td>Z</td>\n",
       "      <td>c042f4db68f23406c6cecf84a7ebb0fe</td>\n",
       "      <td>2021-06-23 01:31:00.192257</td>\n",
       "      <td>purchase_success</td>\n",
       "      <td>Gx9DFIr0AtPxUFd+TTaYag==</td>\n",
       "      <td>39000.0</td>\n",
       "      <td>잡화</td>\n",
       "      <td>주얼리</td>\n",
       "      <td>목걸이</td>\n",
       "      <td>9963.0</td>\n",
       "      <td>GETMEBLING</td>\n",
       "      <td>2021-06-23</td>\n",
       "      <td>01:31:00.192257</td>\n",
       "    </tr>\n",
       "    <tr>\n",
       "      <th>...</th>\n",
       "      <td>...</td>\n",
       "      <td>...</td>\n",
       "      <td>...</td>\n",
       "      <td>...</td>\n",
       "      <td>...</td>\n",
       "      <td>...</td>\n",
       "      <td>...</td>\n",
       "      <td>...</td>\n",
       "      <td>...</td>\n",
       "      <td>...</td>\n",
       "      <td>...</td>\n",
       "      <td>...</td>\n",
       "      <td>...</td>\n",
       "      <td>...</td>\n",
       "      <td>...</td>\n",
       "    </tr>\n",
       "    <tr>\n",
       "      <th>284510</th>\n",
       "      <td>zzeo6R7eqUsMpsllzG1Xbw==</td>\n",
       "      <td>1997</td>\n",
       "      <td>Z</td>\n",
       "      <td>8fcd3304dc37cdeb44e4728f56a77b98</td>\n",
       "      <td>2021-06-15 17:25:01.098074</td>\n",
       "      <td>purchase_success</td>\n",
       "      <td>3yVEIEUhmF8igIYTWV1iDg==</td>\n",
       "      <td>87000.0</td>\n",
       "      <td>의류</td>\n",
       "      <td>상의</td>\n",
       "      <td>셔츠/블라우스</td>\n",
       "      <td>2219.0</td>\n",
       "      <td>ANOTHEROFFICE</td>\n",
       "      <td>2021-06-15</td>\n",
       "      <td>17:25:01.098074</td>\n",
       "    </tr>\n",
       "    <tr>\n",
       "      <th>336022</th>\n",
       "      <td>zzgao+2DDP5dkvHT3yvLiQ==</td>\n",
       "      <td>1997</td>\n",
       "      <td>Z</td>\n",
       "      <td>0f3a5d6ba28b1fdee09ffc0b7ffeb167</td>\n",
       "      <td>2021-08-02 17:42:31.493004</td>\n",
       "      <td>purchase_success</td>\n",
       "      <td>CliHBLsYlrLq15fzRAHZ6w==</td>\n",
       "      <td>29000.0</td>\n",
       "      <td>의류</td>\n",
       "      <td>상의</td>\n",
       "      <td>티셔츠</td>\n",
       "      <td>4290.0</td>\n",
       "      <td>American Apparel</td>\n",
       "      <td>2021-08-02</td>\n",
       "      <td>17:42:31.493004</td>\n",
       "    </tr>\n",
       "    <tr>\n",
       "      <th>336023</th>\n",
       "      <td>zzgao+2DDP5dkvHT3yvLiQ==</td>\n",
       "      <td>1997</td>\n",
       "      <td>Z</td>\n",
       "      <td>7c27f60b21bd1c72c31d9d633e069d46</td>\n",
       "      <td>2021-08-02 19:23:46.465059</td>\n",
       "      <td>purchase_success</td>\n",
       "      <td>mU61E7Kb4DUHgbdYPMox3g==</td>\n",
       "      <td>58000.0</td>\n",
       "      <td>가구/인테리어</td>\n",
       "      <td>홈데코</td>\n",
       "      <td>커버류</td>\n",
       "      <td>8398.0</td>\n",
       "      <td>베베데코</td>\n",
       "      <td>2021-08-02</td>\n",
       "      <td>19:23:46.465059</td>\n",
       "    </tr>\n",
       "    <tr>\n",
       "      <th>336024</th>\n",
       "      <td>zzgao+2DDP5dkvHT3yvLiQ==</td>\n",
       "      <td>1997</td>\n",
       "      <td>Z</td>\n",
       "      <td>81e19cb62d3450d008fc227d4df17bcc</td>\n",
       "      <td>2021-08-02 21:49:35.198004</td>\n",
       "      <td>purchase_success</td>\n",
       "      <td>mU61E7Kb4DUHgbdYPMox3g==</td>\n",
       "      <td>58000.0</td>\n",
       "      <td>가구/인테리어</td>\n",
       "      <td>홈데코</td>\n",
       "      <td>커버류</td>\n",
       "      <td>8398.0</td>\n",
       "      <td>베베데코</td>\n",
       "      <td>2021-08-02</td>\n",
       "      <td>21:49:35.198004</td>\n",
       "    </tr>\n",
       "    <tr>\n",
       "      <th>284511</th>\n",
       "      <td>zzuJMnncH5Wrn/GUA7nqTg==</td>\n",
       "      <td>1997</td>\n",
       "      <td>Z</td>\n",
       "      <td>3ae64d4946bb3ea20d503afc2e39b578</td>\n",
       "      <td>2021-07-23 20:01:48.630025</td>\n",
       "      <td>purchase_success</td>\n",
       "      <td>EnzKYLzBWAMEcir/4VTccg==</td>\n",
       "      <td>65000.0</td>\n",
       "      <td>의류</td>\n",
       "      <td>원피스/점프수트</td>\n",
       "      <td>원피스</td>\n",
       "      <td>11472.0</td>\n",
       "      <td>MONGDOL</td>\n",
       "      <td>2021-07-23</td>\n",
       "      <td>20:01:48.630025</td>\n",
       "    </tr>\n",
       "  </tbody>\n",
       "</table>\n",
       "<p>82839 rows × 15 columns</p>\n",
       "</div>"
      ],
      "text/plain": [
       "                         user_no  year generation  \\\n",
       "294924  ++0bwiYVJ/TAsCpxI4UCuw==  1998          Z   \n",
       "305440  ++2StXdzG0Bj/Kkb5EFcog==  1998          Z   \n",
       "273662  ++2c5Jr8sOEvXXs326kLYQ==  2002          Z   \n",
       "294925  ++IAheYpBmhESyfIUJcnDA==  1996          Z   \n",
       "294926  ++IAheYpBmhESyfIUJcnDA==  1996          Z   \n",
       "...                          ...   ...        ...   \n",
       "284510  zzeo6R7eqUsMpsllzG1Xbw==  1997          Z   \n",
       "336022  zzgao+2DDP5dkvHT3yvLiQ==  1997          Z   \n",
       "336023  zzgao+2DDP5dkvHT3yvLiQ==  1997          Z   \n",
       "336024  zzgao+2DDP5dkvHT3yvLiQ==  1997          Z   \n",
       "284511  zzuJMnncH5Wrn/GUA7nqTg==  1997          Z   \n",
       "\n",
       "                              session_id             event_timestamp  \\\n",
       "294924  1c383cd30b7c298ab50293adfecb7b18  2021-07-27 14:33:20.527011   \n",
       "305440  d67d8ab4f4c10bf22aa353e27879133c  2021-06-29 18:49:40.928022   \n",
       "273662  3416a75f4cea9109507cacd8e2f2aefc  2021-06-19 13:27:55.277026   \n",
       "294925  c042f4db68f23406c6cecf84a7ebb0fe  2021-06-23 01:31:00.192256   \n",
       "294926  c042f4db68f23406c6cecf84a7ebb0fe  2021-06-23 01:31:00.192257   \n",
       "...                                  ...                         ...   \n",
       "284510  8fcd3304dc37cdeb44e4728f56a77b98  2021-06-15 17:25:01.098074   \n",
       "336022  0f3a5d6ba28b1fdee09ffc0b7ffeb167  2021-08-02 17:42:31.493004   \n",
       "336023  7c27f60b21bd1c72c31d9d633e069d46  2021-08-02 19:23:46.465059   \n",
       "336024  81e19cb62d3450d008fc227d4df17bcc  2021-08-02 21:49:35.198004   \n",
       "284511  3ae64d4946bb3ea20d503afc2e39b578  2021-07-23 20:01:48.630025   \n",
       "\n",
       "              event_name                   item_no    price category1_name  \\\n",
       "294924  purchase_success  1oudcHpdVAFRZB8isAnFMQ==  88000.0             의류   \n",
       "305440  purchase_success  9oXAjvKXJBnVAnVqCTTgkw==  25900.0             의류   \n",
       "273662  purchase_success  D0VWjbDA0Hn/u4LJSwVyDw==  38000.0             의류   \n",
       "294925  purchase_success  Z1WikGOivUTkUDaBjNSn1g==  23000.0             잡화   \n",
       "294926  purchase_success  Gx9DFIr0AtPxUFd+TTaYag==  39000.0             잡화   \n",
       "...                  ...                       ...      ...            ...   \n",
       "284510  purchase_success  3yVEIEUhmF8igIYTWV1iDg==  87000.0             의류   \n",
       "336022  purchase_success  CliHBLsYlrLq15fzRAHZ6w==  29000.0             의류   \n",
       "336023  purchase_success  mU61E7Kb4DUHgbdYPMox3g==  58000.0        가구/인테리어   \n",
       "336024  purchase_success  mU61E7Kb4DUHgbdYPMox3g==  58000.0        가구/인테리어   \n",
       "284511  purchase_success  EnzKYLzBWAMEcir/4VTccg==  65000.0             의류   \n",
       "\n",
       "       category2_name category3_name  brand_no          brand_name  \\\n",
       "294924             상의            티셔츠    7997.0  FRED PERRY APPAREL   \n",
       "305440             하의             바지    9621.0               JEMUT   \n",
       "273662             상의            티셔츠    2477.0            NEITHERS   \n",
       "294925            주얼리            귀걸이    9963.0          GETMEBLING   \n",
       "294926            주얼리            목걸이    9963.0          GETMEBLING   \n",
       "...               ...            ...       ...                 ...   \n",
       "284510             상의        셔츠/블라우스    2219.0       ANOTHEROFFICE   \n",
       "336022             상의            티셔츠    4290.0    American Apparel   \n",
       "336023            홈데코            커버류    8398.0                베베데코   \n",
       "336024            홈데코            커버류    8398.0                베베데코   \n",
       "284511       원피스/점프수트            원피스   11472.0             MONGDOL   \n",
       "\n",
       "              date             time  \n",
       "294924  2021-07-27  14:33:20.527011  \n",
       "305440  2021-06-29  18:49:40.928022  \n",
       "273662  2021-06-19  13:27:55.277026  \n",
       "294925  2021-06-23  01:31:00.192256  \n",
       "294926  2021-06-23  01:31:00.192257  \n",
       "...            ...              ...  \n",
       "284510  2021-06-15  17:25:01.098074  \n",
       "336022  2021-08-02  17:42:31.493004  \n",
       "336023  2021-08-02  19:23:46.465059  \n",
       "336024  2021-08-02  21:49:35.198004  \n",
       "284511  2021-07-23  20:01:48.630025  \n",
       "\n",
       "[82839 rows x 15 columns]"
      ]
     },
     "execution_count": 135,
     "metadata": {},
     "output_type": "execute_result"
    }
   ],
   "source": [
    "ddf2 = ddf2.sort_values(by=['user_no', 'date'])\n",
    "ddf2"
   ]
  },
  {
   "cell_type": "code",
   "execution_count": 136,
   "id": "8927e6aa",
   "metadata": {
    "scrolled": true
   },
   "outputs": [
    {
     "data": {
      "text/html": [
       "<div>\n",
       "<style scoped>\n",
       "    .dataframe tbody tr th:only-of-type {\n",
       "        vertical-align: middle;\n",
       "    }\n",
       "\n",
       "    .dataframe tbody tr th {\n",
       "        vertical-align: top;\n",
       "    }\n",
       "\n",
       "    .dataframe thead th {\n",
       "        text-align: right;\n",
       "    }\n",
       "</style>\n",
       "<table border=\"1\" class=\"dataframe\">\n",
       "  <thead>\n",
       "    <tr style=\"text-align: right;\">\n",
       "      <th></th>\n",
       "      <th>user_no</th>\n",
       "      <th>year</th>\n",
       "      <th>generation</th>\n",
       "      <th>session_id</th>\n",
       "      <th>event_timestamp</th>\n",
       "      <th>event_name</th>\n",
       "      <th>item_no</th>\n",
       "      <th>price</th>\n",
       "      <th>category1_name</th>\n",
       "      <th>category2_name</th>\n",
       "      <th>category3_name</th>\n",
       "      <th>brand_no</th>\n",
       "      <th>brand_name</th>\n",
       "      <th>date</th>\n",
       "      <th>time</th>\n",
       "      <th>next_purchase</th>\n",
       "    </tr>\n",
       "  </thead>\n",
       "  <tbody>\n",
       "    <tr>\n",
       "      <th>294924</th>\n",
       "      <td>++0bwiYVJ/TAsCpxI4UCuw==</td>\n",
       "      <td>1998</td>\n",
       "      <td>Z</td>\n",
       "      <td>1c383cd30b7c298ab50293adfecb7b18</td>\n",
       "      <td>2021-07-27 14:33:20.527011</td>\n",
       "      <td>purchase_success</td>\n",
       "      <td>1oudcHpdVAFRZB8isAnFMQ==</td>\n",
       "      <td>88000.0</td>\n",
       "      <td>의류</td>\n",
       "      <td>상의</td>\n",
       "      <td>티셔츠</td>\n",
       "      <td>7997.0</td>\n",
       "      <td>FRED PERRY APPAREL</td>\n",
       "      <td>2021-07-27</td>\n",
       "      <td>14:33:20.527011</td>\n",
       "      <td>NaN</td>\n",
       "    </tr>\n",
       "    <tr>\n",
       "      <th>305440</th>\n",
       "      <td>++2StXdzG0Bj/Kkb5EFcog==</td>\n",
       "      <td>1998</td>\n",
       "      <td>Z</td>\n",
       "      <td>d67d8ab4f4c10bf22aa353e27879133c</td>\n",
       "      <td>2021-06-29 18:49:40.928022</td>\n",
       "      <td>purchase_success</td>\n",
       "      <td>9oXAjvKXJBnVAnVqCTTgkw==</td>\n",
       "      <td>25900.0</td>\n",
       "      <td>의류</td>\n",
       "      <td>하의</td>\n",
       "      <td>바지</td>\n",
       "      <td>9621.0</td>\n",
       "      <td>JEMUT</td>\n",
       "      <td>2021-06-29</td>\n",
       "      <td>18:49:40.928022</td>\n",
       "      <td>NaN</td>\n",
       "    </tr>\n",
       "    <tr>\n",
       "      <th>273662</th>\n",
       "      <td>++2c5Jr8sOEvXXs326kLYQ==</td>\n",
       "      <td>2002</td>\n",
       "      <td>Z</td>\n",
       "      <td>3416a75f4cea9109507cacd8e2f2aefc</td>\n",
       "      <td>2021-06-19 13:27:55.277026</td>\n",
       "      <td>purchase_success</td>\n",
       "      <td>D0VWjbDA0Hn/u4LJSwVyDw==</td>\n",
       "      <td>38000.0</td>\n",
       "      <td>의류</td>\n",
       "      <td>상의</td>\n",
       "      <td>티셔츠</td>\n",
       "      <td>2477.0</td>\n",
       "      <td>NEITHERS</td>\n",
       "      <td>2021-06-19</td>\n",
       "      <td>13:27:55.277026</td>\n",
       "      <td>NaN</td>\n",
       "    </tr>\n",
       "    <tr>\n",
       "      <th>294925</th>\n",
       "      <td>++IAheYpBmhESyfIUJcnDA==</td>\n",
       "      <td>1996</td>\n",
       "      <td>Z</td>\n",
       "      <td>c042f4db68f23406c6cecf84a7ebb0fe</td>\n",
       "      <td>2021-06-23 01:31:00.192256</td>\n",
       "      <td>purchase_success</td>\n",
       "      <td>Z1WikGOivUTkUDaBjNSn1g==</td>\n",
       "      <td>23000.0</td>\n",
       "      <td>잡화</td>\n",
       "      <td>주얼리</td>\n",
       "      <td>귀걸이</td>\n",
       "      <td>9963.0</td>\n",
       "      <td>GETMEBLING</td>\n",
       "      <td>2021-06-23</td>\n",
       "      <td>01:31:00.192256</td>\n",
       "      <td>2021-06-23</td>\n",
       "    </tr>\n",
       "    <tr>\n",
       "      <th>294926</th>\n",
       "      <td>++IAheYpBmhESyfIUJcnDA==</td>\n",
       "      <td>1996</td>\n",
       "      <td>Z</td>\n",
       "      <td>c042f4db68f23406c6cecf84a7ebb0fe</td>\n",
       "      <td>2021-06-23 01:31:00.192257</td>\n",
       "      <td>purchase_success</td>\n",
       "      <td>Gx9DFIr0AtPxUFd+TTaYag==</td>\n",
       "      <td>39000.0</td>\n",
       "      <td>잡화</td>\n",
       "      <td>주얼리</td>\n",
       "      <td>목걸이</td>\n",
       "      <td>9963.0</td>\n",
       "      <td>GETMEBLING</td>\n",
       "      <td>2021-06-23</td>\n",
       "      <td>01:31:00.192257</td>\n",
       "      <td>NaN</td>\n",
       "    </tr>\n",
       "    <tr>\n",
       "      <th>...</th>\n",
       "      <td>...</td>\n",
       "      <td>...</td>\n",
       "      <td>...</td>\n",
       "      <td>...</td>\n",
       "      <td>...</td>\n",
       "      <td>...</td>\n",
       "      <td>...</td>\n",
       "      <td>...</td>\n",
       "      <td>...</td>\n",
       "      <td>...</td>\n",
       "      <td>...</td>\n",
       "      <td>...</td>\n",
       "      <td>...</td>\n",
       "      <td>...</td>\n",
       "      <td>...</td>\n",
       "      <td>...</td>\n",
       "    </tr>\n",
       "    <tr>\n",
       "      <th>284510</th>\n",
       "      <td>zzeo6R7eqUsMpsllzG1Xbw==</td>\n",
       "      <td>1997</td>\n",
       "      <td>Z</td>\n",
       "      <td>8fcd3304dc37cdeb44e4728f56a77b98</td>\n",
       "      <td>2021-06-15 17:25:01.098074</td>\n",
       "      <td>purchase_success</td>\n",
       "      <td>3yVEIEUhmF8igIYTWV1iDg==</td>\n",
       "      <td>87000.0</td>\n",
       "      <td>의류</td>\n",
       "      <td>상의</td>\n",
       "      <td>셔츠/블라우스</td>\n",
       "      <td>2219.0</td>\n",
       "      <td>ANOTHEROFFICE</td>\n",
       "      <td>2021-06-15</td>\n",
       "      <td>17:25:01.098074</td>\n",
       "      <td>NaN</td>\n",
       "    </tr>\n",
       "    <tr>\n",
       "      <th>336022</th>\n",
       "      <td>zzgao+2DDP5dkvHT3yvLiQ==</td>\n",
       "      <td>1997</td>\n",
       "      <td>Z</td>\n",
       "      <td>0f3a5d6ba28b1fdee09ffc0b7ffeb167</td>\n",
       "      <td>2021-08-02 17:42:31.493004</td>\n",
       "      <td>purchase_success</td>\n",
       "      <td>CliHBLsYlrLq15fzRAHZ6w==</td>\n",
       "      <td>29000.0</td>\n",
       "      <td>의류</td>\n",
       "      <td>상의</td>\n",
       "      <td>티셔츠</td>\n",
       "      <td>4290.0</td>\n",
       "      <td>American Apparel</td>\n",
       "      <td>2021-08-02</td>\n",
       "      <td>17:42:31.493004</td>\n",
       "      <td>2021-08-02</td>\n",
       "    </tr>\n",
       "    <tr>\n",
       "      <th>336023</th>\n",
       "      <td>zzgao+2DDP5dkvHT3yvLiQ==</td>\n",
       "      <td>1997</td>\n",
       "      <td>Z</td>\n",
       "      <td>7c27f60b21bd1c72c31d9d633e069d46</td>\n",
       "      <td>2021-08-02 19:23:46.465059</td>\n",
       "      <td>purchase_success</td>\n",
       "      <td>mU61E7Kb4DUHgbdYPMox3g==</td>\n",
       "      <td>58000.0</td>\n",
       "      <td>가구/인테리어</td>\n",
       "      <td>홈데코</td>\n",
       "      <td>커버류</td>\n",
       "      <td>8398.0</td>\n",
       "      <td>베베데코</td>\n",
       "      <td>2021-08-02</td>\n",
       "      <td>19:23:46.465059</td>\n",
       "      <td>2021-08-02</td>\n",
       "    </tr>\n",
       "    <tr>\n",
       "      <th>336024</th>\n",
       "      <td>zzgao+2DDP5dkvHT3yvLiQ==</td>\n",
       "      <td>1997</td>\n",
       "      <td>Z</td>\n",
       "      <td>81e19cb62d3450d008fc227d4df17bcc</td>\n",
       "      <td>2021-08-02 21:49:35.198004</td>\n",
       "      <td>purchase_success</td>\n",
       "      <td>mU61E7Kb4DUHgbdYPMox3g==</td>\n",
       "      <td>58000.0</td>\n",
       "      <td>가구/인테리어</td>\n",
       "      <td>홈데코</td>\n",
       "      <td>커버류</td>\n",
       "      <td>8398.0</td>\n",
       "      <td>베베데코</td>\n",
       "      <td>2021-08-02</td>\n",
       "      <td>21:49:35.198004</td>\n",
       "      <td>NaN</td>\n",
       "    </tr>\n",
       "    <tr>\n",
       "      <th>284511</th>\n",
       "      <td>zzuJMnncH5Wrn/GUA7nqTg==</td>\n",
       "      <td>1997</td>\n",
       "      <td>Z</td>\n",
       "      <td>3ae64d4946bb3ea20d503afc2e39b578</td>\n",
       "      <td>2021-07-23 20:01:48.630025</td>\n",
       "      <td>purchase_success</td>\n",
       "      <td>EnzKYLzBWAMEcir/4VTccg==</td>\n",
       "      <td>65000.0</td>\n",
       "      <td>의류</td>\n",
       "      <td>원피스/점프수트</td>\n",
       "      <td>원피스</td>\n",
       "      <td>11472.0</td>\n",
       "      <td>MONGDOL</td>\n",
       "      <td>2021-07-23</td>\n",
       "      <td>20:01:48.630025</td>\n",
       "      <td>NaN</td>\n",
       "    </tr>\n",
       "  </tbody>\n",
       "</table>\n",
       "<p>82839 rows × 16 columns</p>\n",
       "</div>"
      ],
      "text/plain": [
       "                         user_no  year generation  \\\n",
       "294924  ++0bwiYVJ/TAsCpxI4UCuw==  1998          Z   \n",
       "305440  ++2StXdzG0Bj/Kkb5EFcog==  1998          Z   \n",
       "273662  ++2c5Jr8sOEvXXs326kLYQ==  2002          Z   \n",
       "294925  ++IAheYpBmhESyfIUJcnDA==  1996          Z   \n",
       "294926  ++IAheYpBmhESyfIUJcnDA==  1996          Z   \n",
       "...                          ...   ...        ...   \n",
       "284510  zzeo6R7eqUsMpsllzG1Xbw==  1997          Z   \n",
       "336022  zzgao+2DDP5dkvHT3yvLiQ==  1997          Z   \n",
       "336023  zzgao+2DDP5dkvHT3yvLiQ==  1997          Z   \n",
       "336024  zzgao+2DDP5dkvHT3yvLiQ==  1997          Z   \n",
       "284511  zzuJMnncH5Wrn/GUA7nqTg==  1997          Z   \n",
       "\n",
       "                              session_id             event_timestamp  \\\n",
       "294924  1c383cd30b7c298ab50293adfecb7b18  2021-07-27 14:33:20.527011   \n",
       "305440  d67d8ab4f4c10bf22aa353e27879133c  2021-06-29 18:49:40.928022   \n",
       "273662  3416a75f4cea9109507cacd8e2f2aefc  2021-06-19 13:27:55.277026   \n",
       "294925  c042f4db68f23406c6cecf84a7ebb0fe  2021-06-23 01:31:00.192256   \n",
       "294926  c042f4db68f23406c6cecf84a7ebb0fe  2021-06-23 01:31:00.192257   \n",
       "...                                  ...                         ...   \n",
       "284510  8fcd3304dc37cdeb44e4728f56a77b98  2021-06-15 17:25:01.098074   \n",
       "336022  0f3a5d6ba28b1fdee09ffc0b7ffeb167  2021-08-02 17:42:31.493004   \n",
       "336023  7c27f60b21bd1c72c31d9d633e069d46  2021-08-02 19:23:46.465059   \n",
       "336024  81e19cb62d3450d008fc227d4df17bcc  2021-08-02 21:49:35.198004   \n",
       "284511  3ae64d4946bb3ea20d503afc2e39b578  2021-07-23 20:01:48.630025   \n",
       "\n",
       "              event_name                   item_no    price category1_name  \\\n",
       "294924  purchase_success  1oudcHpdVAFRZB8isAnFMQ==  88000.0             의류   \n",
       "305440  purchase_success  9oXAjvKXJBnVAnVqCTTgkw==  25900.0             의류   \n",
       "273662  purchase_success  D0VWjbDA0Hn/u4LJSwVyDw==  38000.0             의류   \n",
       "294925  purchase_success  Z1WikGOivUTkUDaBjNSn1g==  23000.0             잡화   \n",
       "294926  purchase_success  Gx9DFIr0AtPxUFd+TTaYag==  39000.0             잡화   \n",
       "...                  ...                       ...      ...            ...   \n",
       "284510  purchase_success  3yVEIEUhmF8igIYTWV1iDg==  87000.0             의류   \n",
       "336022  purchase_success  CliHBLsYlrLq15fzRAHZ6w==  29000.0             의류   \n",
       "336023  purchase_success  mU61E7Kb4DUHgbdYPMox3g==  58000.0        가구/인테리어   \n",
       "336024  purchase_success  mU61E7Kb4DUHgbdYPMox3g==  58000.0        가구/인테리어   \n",
       "284511  purchase_success  EnzKYLzBWAMEcir/4VTccg==  65000.0             의류   \n",
       "\n",
       "       category2_name category3_name  brand_no          brand_name  \\\n",
       "294924             상의            티셔츠    7997.0  FRED PERRY APPAREL   \n",
       "305440             하의             바지    9621.0               JEMUT   \n",
       "273662             상의            티셔츠    2477.0            NEITHERS   \n",
       "294925            주얼리            귀걸이    9963.0          GETMEBLING   \n",
       "294926            주얼리            목걸이    9963.0          GETMEBLING   \n",
       "...               ...            ...       ...                 ...   \n",
       "284510             상의        셔츠/블라우스    2219.0       ANOTHEROFFICE   \n",
       "336022             상의            티셔츠    4290.0    American Apparel   \n",
       "336023            홈데코            커버류    8398.0                베베데코   \n",
       "336024            홈데코            커버류    8398.0                베베데코   \n",
       "284511       원피스/점프수트            원피스   11472.0             MONGDOL   \n",
       "\n",
       "              date             time next_purchase  \n",
       "294924  2021-07-27  14:33:20.527011           NaN  \n",
       "305440  2021-06-29  18:49:40.928022           NaN  \n",
       "273662  2021-06-19  13:27:55.277026           NaN  \n",
       "294925  2021-06-23  01:31:00.192256    2021-06-23  \n",
       "294926  2021-06-23  01:31:00.192257           NaN  \n",
       "...            ...              ...           ...  \n",
       "284510  2021-06-15  17:25:01.098074           NaN  \n",
       "336022  2021-08-02  17:42:31.493004    2021-08-02  \n",
       "336023  2021-08-02  19:23:46.465059    2021-08-02  \n",
       "336024  2021-08-02  21:49:35.198004           NaN  \n",
       "284511  2021-07-23  20:01:48.630025           NaN  \n",
       "\n",
       "[82839 rows x 16 columns]"
      ]
     },
     "execution_count": 136,
     "metadata": {},
     "output_type": "execute_result"
    }
   ],
   "source": [
    "# user_no기준으로 date를 앞으로 한칸씩 당겨옴 \n",
    "ddf2['next_purchase'] = ddf2.groupby(by=\"user_no\")[\"date\"].shift(-1)\n",
    "ddf2"
   ]
  },
  {
   "cell_type": "code",
   "execution_count": 137,
   "id": "1eea7d7e",
   "metadata": {},
   "outputs": [],
   "source": [
    "# user_no 기준 재구매 하지 않은 사람들 제거 \n",
    "ddf2 = ddf2.dropna(subset=['next_purchase'])"
   ]
  },
  {
   "cell_type": "code",
   "execution_count": 138,
   "id": "b58fdccf",
   "metadata": {
    "scrolled": true
   },
   "outputs": [
    {
     "name": "stderr",
     "output_type": "stream",
     "text": [
      "/var/folders/_m/cn5hgvpd2zv9jwrd8sdt55ch0000gn/T/ipykernel_1615/101778185.py:2: SettingWithCopyWarning: \n",
      "A value is trying to be set on a copy of a slice from a DataFrame.\n",
      "Try using .loc[row_indexer,col_indexer] = value instead\n",
      "\n",
      "See the caveats in the documentation: https://pandas.pydata.org/pandas-docs/stable/user_guide/indexing.html#returning-a-view-versus-a-copy\n",
      "  ddf2['date'] = pd.to_datetime(ddf2['date'])\n",
      "/var/folders/_m/cn5hgvpd2zv9jwrd8sdt55ch0000gn/T/ipykernel_1615/101778185.py:3: SettingWithCopyWarning: \n",
      "A value is trying to be set on a copy of a slice from a DataFrame.\n",
      "Try using .loc[row_indexer,col_indexer] = value instead\n",
      "\n",
      "See the caveats in the documentation: https://pandas.pydata.org/pandas-docs/stable/user_guide/indexing.html#returning-a-view-versus-a-copy\n",
      "  ddf2['next_purchase'] = pd.to_datetime(ddf2['next_purchase'])\n",
      "/var/folders/_m/cn5hgvpd2zv9jwrd8sdt55ch0000gn/T/ipykernel_1615/101778185.py:5: SettingWithCopyWarning: \n",
      "A value is trying to be set on a copy of a slice from a DataFrame.\n",
      "Try using .loc[row_indexer,col_indexer] = value instead\n",
      "\n",
      "See the caveats in the documentation: https://pandas.pydata.org/pandas-docs/stable/user_guide/indexing.html#returning-a-view-versus-a-copy\n",
      "  ddf2['purchase_date_diff']=ddf2['next_purchase']-ddf2['date']\n"
     ]
    }
   ],
   "source": [
    "# 계산을 위해 타입을 날짜로 변환\n",
    "ddf2['date'] = pd.to_datetime(ddf2['date'])\n",
    "ddf2['next_purchase'] = pd.to_datetime(ddf2['next_purchase'])\n",
    "# purchase_date_diff 컬럼 생성 \n",
    "ddf2['purchase_date_diff']=ddf2['next_purchase']-ddf2['date']"
   ]
  },
  {
   "cell_type": "code",
   "execution_count": 139,
   "id": "9b7ff722",
   "metadata": {},
   "outputs": [
    {
     "data": {
      "text/plain": [
       "30009"
      ]
     },
     "execution_count": 139,
     "metadata": {},
     "output_type": "execute_result"
    }
   ],
   "source": [
    "# 당일에 재구매한것은 분리 \n",
    "df_0days = ddf2[ddf2['purchase_date_diff']== '0 days']\n",
    "df_0days.shape[0]"
   ]
  },
  {
   "cell_type": "code",
   "execution_count": 159,
   "id": "f452fbd9",
   "metadata": {
    "scrolled": true
   },
   "outputs": [
    {
     "data": {
      "text/plain": [
       "1 days     1906\n",
       "2 days     1294\n",
       "3 days     1124\n",
       "4 days     1053\n",
       "5 days      842\n",
       "           ... \n",
       "57 days       9\n",
       "58 days      19\n",
       "59 days       8\n",
       "60 days       4\n",
       "61 days       1\n",
       "Name: purchase_date_diff, Length: 61, dtype: int64"
      ]
     },
     "execution_count": 159,
     "metadata": {},
     "output_type": "execute_result"
    }
   ],
   "source": [
    "# 재구매 유저 그룹 분리\n",
    "df_z_ndays = ddf2.drop(df_0days.index) # 당일 재구매 제외\n",
    "df_z_ndays['purchase_date_diff'].value_counts().sort_index()"
   ]
  },
  {
   "cell_type": "code",
   "execution_count": 160,
   "id": "9c0ab8e4",
   "metadata": {},
   "outputs": [],
   "source": [
    "# 계산을 위해 date_diff의 타입을 timedelta64에서 int로 변환\n",
    "df_z_ndays['purchase_date_diff'] = df_z_ndays['purchase_date_diff'].dt.days"
   ]
  },
  {
   "cell_type": "code",
   "execution_count": null,
   "id": "9343eb71",
   "metadata": {},
   "outputs": [],
   "source": []
  },
  {
   "cell_type": "code",
   "execution_count": 161,
   "id": "28a77b93",
   "metadata": {
    "scrolled": true
   },
   "outputs": [
    {
     "data": {
      "text/html": [
       "<div>\n",
       "<style scoped>\n",
       "    .dataframe tbody tr th:only-of-type {\n",
       "        vertical-align: middle;\n",
       "    }\n",
       "\n",
       "    .dataframe tbody tr th {\n",
       "        vertical-align: top;\n",
       "    }\n",
       "\n",
       "    .dataframe thead th {\n",
       "        text-align: right;\n",
       "    }\n",
       "</style>\n",
       "<table border=\"1\" class=\"dataframe\">\n",
       "  <thead>\n",
       "    <tr style=\"text-align: right;\">\n",
       "      <th></th>\n",
       "      <th>year</th>\n",
       "      <th>price</th>\n",
       "      <th>brand_no</th>\n",
       "      <th>purchase_date_diff</th>\n",
       "    </tr>\n",
       "    <tr>\n",
       "      <th>user_no</th>\n",
       "      <th></th>\n",
       "      <th></th>\n",
       "      <th></th>\n",
       "      <th></th>\n",
       "    </tr>\n",
       "  </thead>\n",
       "  <tbody>\n",
       "    <tr>\n",
       "      <th>++KVqHvNPHvp3LL9SkuL8A==</th>\n",
       "      <td>2004.0</td>\n",
       "      <td>73950.000000</td>\n",
       "      <td>9669.5</td>\n",
       "      <td>24.0</td>\n",
       "    </tr>\n",
       "    <tr>\n",
       "      <th>+00VohIjKv9IBNiMTZXFiA==</th>\n",
       "      <td>1997.0</td>\n",
       "      <td>99000.000000</td>\n",
       "      <td>3797.0</td>\n",
       "      <td>20.0</td>\n",
       "    </tr>\n",
       "    <tr>\n",
       "      <th>+0pt8KO8US1de0l0pHbSKA==</th>\n",
       "      <td>2000.0</td>\n",
       "      <td>45000.000000</td>\n",
       "      <td>7730.0</td>\n",
       "      <td>28.0</td>\n",
       "    </tr>\n",
       "    <tr>\n",
       "      <th>+1Mr7TyOhb/FqQdRYdBQCg==</th>\n",
       "      <td>1997.0</td>\n",
       "      <td>68000.000000</td>\n",
       "      <td>12252.0</td>\n",
       "      <td>1.0</td>\n",
       "    </tr>\n",
       "    <tr>\n",
       "      <th>+1QDACW9qACZkfLQO+HdrQ==</th>\n",
       "      <td>1998.0</td>\n",
       "      <td>121666.666667</td>\n",
       "      <td>7385.0</td>\n",
       "      <td>5.0</td>\n",
       "    </tr>\n",
       "    <tr>\n",
       "      <th>...</th>\n",
       "      <td>...</td>\n",
       "      <td>...</td>\n",
       "      <td>...</td>\n",
       "      <td>...</td>\n",
       "    </tr>\n",
       "    <tr>\n",
       "      <th>zz3Ar6DD99dqzB75w7zdxw==</th>\n",
       "      <td>1998.0</td>\n",
       "      <td>60000.000000</td>\n",
       "      <td>3360.0</td>\n",
       "      <td>16.5</td>\n",
       "    </tr>\n",
       "    <tr>\n",
       "      <th>zzFuhUOnokFb9Vgp98ucrA==</th>\n",
       "      <td>1997.0</td>\n",
       "      <td>15500.000000</td>\n",
       "      <td>8077.0</td>\n",
       "      <td>3.0</td>\n",
       "    </tr>\n",
       "    <tr>\n",
       "      <th>zzKWo6xuFSRROk3YcF7lZA==</th>\n",
       "      <td>2000.0</td>\n",
       "      <td>42000.000000</td>\n",
       "      <td>3689.0</td>\n",
       "      <td>20.0</td>\n",
       "    </tr>\n",
       "    <tr>\n",
       "      <th>zzLGF7vXyODnAkQWIcqX0g==</th>\n",
       "      <td>1996.0</td>\n",
       "      <td>175500.000000</td>\n",
       "      <td>12305.5</td>\n",
       "      <td>13.5</td>\n",
       "    </tr>\n",
       "    <tr>\n",
       "      <th>zzeo6R7eqUsMpsllzG1Xbw==</th>\n",
       "      <td>1997.0</td>\n",
       "      <td>69000.000000</td>\n",
       "      <td>2350.0</td>\n",
       "      <td>8.0</td>\n",
       "    </tr>\n",
       "  </tbody>\n",
       "</table>\n",
       "<p>10060 rows × 4 columns</p>\n",
       "</div>"
      ],
      "text/plain": [
       "                            year          price  brand_no  purchase_date_diff\n",
       "user_no                                                                      \n",
       "++KVqHvNPHvp3LL9SkuL8A==  2004.0   73950.000000    9669.5                24.0\n",
       "+00VohIjKv9IBNiMTZXFiA==  1997.0   99000.000000    3797.0                20.0\n",
       "+0pt8KO8US1de0l0pHbSKA==  2000.0   45000.000000    7730.0                28.0\n",
       "+1Mr7TyOhb/FqQdRYdBQCg==  1997.0   68000.000000   12252.0                 1.0\n",
       "+1QDACW9qACZkfLQO+HdrQ==  1998.0  121666.666667    7385.0                 5.0\n",
       "...                          ...            ...       ...                 ...\n",
       "zz3Ar6DD99dqzB75w7zdxw==  1998.0   60000.000000    3360.0                16.5\n",
       "zzFuhUOnokFb9Vgp98ucrA==  1997.0   15500.000000    8077.0                 3.0\n",
       "zzKWo6xuFSRROk3YcF7lZA==  2000.0   42000.000000    3689.0                20.0\n",
       "zzLGF7vXyODnAkQWIcqX0g==  1996.0  175500.000000   12305.5                13.5\n",
       "zzeo6R7eqUsMpsllzG1Xbw==  1997.0   69000.000000    2350.0                 8.0\n",
       "\n",
       "[10060 rows x 4 columns]"
      ]
     },
     "execution_count": 161,
     "metadata": {},
     "output_type": "execute_result"
    }
   ],
   "source": [
    "#유저별 평균 구매일수 \n",
    "df_z_ndays.groupby('user_no').mean()"
   ]
  },
  {
   "cell_type": "code",
   "execution_count": 162,
   "id": "73d1e1b7",
   "metadata": {
    "scrolled": true
   },
   "outputs": [
    {
     "data": {
      "text/plain": [
       "year                   1998.056660\n",
       "price                 61495.169111\n",
       "brand_no               7469.274281\n",
       "purchase_date_diff       15.207683\n",
       "dtype: float64"
      ]
     },
     "execution_count": 162,
     "metadata": {},
     "output_type": "execute_result"
    }
   ],
   "source": [
    "# Z세대의 구매 주기 \n",
    "df_z_ndays.groupby('user_no').mean().mean()"
   ]
  },
  {
   "cell_type": "code",
   "execution_count": null,
   "id": "7d6d76ad",
   "metadata": {},
   "outputs": [],
   "source": []
  },
  {
   "cell_type": "code",
   "execution_count": null,
   "id": "01c01f1a",
   "metadata": {},
   "outputs": [],
   "source": [
    "# 구매주기 t-test "
   ]
  },
  {
   "cell_type": "code",
   "execution_count": 163,
   "id": "6ff921af",
   "metadata": {},
   "outputs": [
    {
     "data": {
      "text/html": [
       "<div>\n",
       "<style scoped>\n",
       "    .dataframe tbody tr th:only-of-type {\n",
       "        vertical-align: middle;\n",
       "    }\n",
       "\n",
       "    .dataframe tbody tr th {\n",
       "        vertical-align: top;\n",
       "    }\n",
       "\n",
       "    .dataframe thead th {\n",
       "        text-align: right;\n",
       "    }\n",
       "</style>\n",
       "<table border=\"1\" class=\"dataframe\">\n",
       "  <thead>\n",
       "    <tr style=\"text-align: right;\">\n",
       "      <th></th>\n",
       "      <th>year</th>\n",
       "      <th>price</th>\n",
       "      <th>brand_no</th>\n",
       "      <th>purchase_date_diff</th>\n",
       "    </tr>\n",
       "    <tr>\n",
       "      <th>user_no</th>\n",
       "      <th></th>\n",
       "      <th></th>\n",
       "      <th></th>\n",
       "      <th></th>\n",
       "    </tr>\n",
       "  </thead>\n",
       "  <tbody>\n",
       "    <tr>\n",
       "      <th>++KVqHvNPHvp3LL9SkuL8A==</th>\n",
       "      <td>2004.0</td>\n",
       "      <td>73950.000000</td>\n",
       "      <td>9669.5</td>\n",
       "      <td>24.0</td>\n",
       "    </tr>\n",
       "    <tr>\n",
       "      <th>+00VohIjKv9IBNiMTZXFiA==</th>\n",
       "      <td>1997.0</td>\n",
       "      <td>99000.000000</td>\n",
       "      <td>3797.0</td>\n",
       "      <td>20.0</td>\n",
       "    </tr>\n",
       "    <tr>\n",
       "      <th>+0pt8KO8US1de0l0pHbSKA==</th>\n",
       "      <td>2000.0</td>\n",
       "      <td>45000.000000</td>\n",
       "      <td>7730.0</td>\n",
       "      <td>28.0</td>\n",
       "    </tr>\n",
       "    <tr>\n",
       "      <th>+1Mr7TyOhb/FqQdRYdBQCg==</th>\n",
       "      <td>1997.0</td>\n",
       "      <td>68000.000000</td>\n",
       "      <td>12252.0</td>\n",
       "      <td>1.0</td>\n",
       "    </tr>\n",
       "    <tr>\n",
       "      <th>+1QDACW9qACZkfLQO+HdrQ==</th>\n",
       "      <td>1998.0</td>\n",
       "      <td>121666.666667</td>\n",
       "      <td>7385.0</td>\n",
       "      <td>5.0</td>\n",
       "    </tr>\n",
       "    <tr>\n",
       "      <th>...</th>\n",
       "      <td>...</td>\n",
       "      <td>...</td>\n",
       "      <td>...</td>\n",
       "      <td>...</td>\n",
       "    </tr>\n",
       "    <tr>\n",
       "      <th>zz3Ar6DD99dqzB75w7zdxw==</th>\n",
       "      <td>1998.0</td>\n",
       "      <td>60000.000000</td>\n",
       "      <td>3360.0</td>\n",
       "      <td>16.5</td>\n",
       "    </tr>\n",
       "    <tr>\n",
       "      <th>zzFuhUOnokFb9Vgp98ucrA==</th>\n",
       "      <td>1997.0</td>\n",
       "      <td>15500.000000</td>\n",
       "      <td>8077.0</td>\n",
       "      <td>3.0</td>\n",
       "    </tr>\n",
       "    <tr>\n",
       "      <th>zzKWo6xuFSRROk3YcF7lZA==</th>\n",
       "      <td>2000.0</td>\n",
       "      <td>42000.000000</td>\n",
       "      <td>3689.0</td>\n",
       "      <td>20.0</td>\n",
       "    </tr>\n",
       "    <tr>\n",
       "      <th>zzLGF7vXyODnAkQWIcqX0g==</th>\n",
       "      <td>1996.0</td>\n",
       "      <td>175500.000000</td>\n",
       "      <td>12305.5</td>\n",
       "      <td>13.5</td>\n",
       "    </tr>\n",
       "    <tr>\n",
       "      <th>zzeo6R7eqUsMpsllzG1Xbw==</th>\n",
       "      <td>1997.0</td>\n",
       "      <td>69000.000000</td>\n",
       "      <td>2350.0</td>\n",
       "      <td>8.0</td>\n",
       "    </tr>\n",
       "  </tbody>\n",
       "</table>\n",
       "<p>10060 rows × 4 columns</p>\n",
       "</div>"
      ],
      "text/plain": [
       "                            year          price  brand_no  purchase_date_diff\n",
       "user_no                                                                      \n",
       "++KVqHvNPHvp3LL9SkuL8A==  2004.0   73950.000000    9669.5                24.0\n",
       "+00VohIjKv9IBNiMTZXFiA==  1997.0   99000.000000    3797.0                20.0\n",
       "+0pt8KO8US1de0l0pHbSKA==  2000.0   45000.000000    7730.0                28.0\n",
       "+1Mr7TyOhb/FqQdRYdBQCg==  1997.0   68000.000000   12252.0                 1.0\n",
       "+1QDACW9qACZkfLQO+HdrQ==  1998.0  121666.666667    7385.0                 5.0\n",
       "...                          ...            ...       ...                 ...\n",
       "zz3Ar6DD99dqzB75w7zdxw==  1998.0   60000.000000    3360.0                16.5\n",
       "zzFuhUOnokFb9Vgp98ucrA==  1997.0   15500.000000    8077.0                 3.0\n",
       "zzKWo6xuFSRROk3YcF7lZA==  2000.0   42000.000000    3689.0                20.0\n",
       "zzLGF7vXyODnAkQWIcqX0g==  1996.0  175500.000000   12305.5                13.5\n",
       "zzeo6R7eqUsMpsllzG1Xbw==  1997.0   69000.000000    2350.0                 8.0\n",
       "\n",
       "[10060 rows x 4 columns]"
      ]
     },
     "execution_count": 163,
     "metadata": {},
     "output_type": "execute_result"
    }
   ],
   "source": [
    "df_m_ndays.groupby('user_no').mean()"
   ]
  },
  {
   "cell_type": "code",
   "execution_count": 164,
   "id": "d5f30e93",
   "metadata": {},
   "outputs": [
    {
     "data": {
      "text/plain": [
       "user_no\n",
       "++KVqHvNPHvp3LL9SkuL8A==    24.0\n",
       "+00VohIjKv9IBNiMTZXFiA==    20.0\n",
       "+0pt8KO8US1de0l0pHbSKA==    28.0\n",
       "+1Mr7TyOhb/FqQdRYdBQCg==     1.0\n",
       "+1QDACW9qACZkfLQO+HdrQ==     5.0\n",
       "                            ... \n",
       "zz3Ar6DD99dqzB75w7zdxw==    16.5\n",
       "zzFuhUOnokFb9Vgp98ucrA==     3.0\n",
       "zzKWo6xuFSRROk3YcF7lZA==    20.0\n",
       "zzLGF7vXyODnAkQWIcqX0g==    13.5\n",
       "zzeo6R7eqUsMpsllzG1Xbw==     8.0\n",
       "Name: purchase_date_diff, Length: 10060, dtype: float64"
      ]
     },
     "execution_count": 164,
     "metadata": {},
     "output_type": "execute_result"
    }
   ],
   "source": [
    "df_m_ndays.groupby('user_no').mean()['purchase_date_diff']"
   ]
  },
  {
   "cell_type": "code",
   "execution_count": null,
   "id": "96907749",
   "metadata": {},
   "outputs": [],
   "source": []
  },
  {
   "cell_type": "markdown",
   "id": "9aa7fd5d",
   "metadata": {},
   "source": [
    "## 구매주기 t-test"
   ]
  },
  {
   "cell_type": "code",
   "execution_count": 165,
   "id": "63523ccd",
   "metadata": {},
   "outputs": [
    {
     "data": {
      "text/plain": [
       "user_no\n",
       "++KVqHvNPHvp3LL9SkuL8A==    24.0\n",
       "+00VohIjKv9IBNiMTZXFiA==    20.0\n",
       "+0pt8KO8US1de0l0pHbSKA==    28.0\n",
       "+1Mr7TyOhb/FqQdRYdBQCg==     1.0\n",
       "+1QDACW9qACZkfLQO+HdrQ==     5.0\n",
       "                            ... \n",
       "zz3Ar6DD99dqzB75w7zdxw==    16.5\n",
       "zzFuhUOnokFb9Vgp98ucrA==     3.0\n",
       "zzKWo6xuFSRROk3YcF7lZA==    20.0\n",
       "zzLGF7vXyODnAkQWIcqX0g==    13.5\n",
       "zzeo6R7eqUsMpsllzG1Xbw==     8.0\n",
       "Name: purchase_date_diff, Length: 10060, dtype: float64"
      ]
     },
     "execution_count": 165,
     "metadata": {},
     "output_type": "execute_result"
    }
   ],
   "source": [
    "#독립표본 t-test\n",
    "from scipy.stats import levene\n",
    "#세대별 user_no 구매가격 확인\n",
    "df_m_ndays.groupby('user_no').mean()['purchase_date_diff']\n",
    "df_z_ndays.groupby('user_no').mean()['purchase_date_diff']"
   ]
  },
  {
   "cell_type": "code",
   "execution_count": 169,
   "id": "78a4b55c",
   "metadata": {},
   "outputs": [
    {
     "data": {
      "text/plain": [
       "LeveneResult(statistic=0.0, pvalue=1.0)"
      ]
     },
     "execution_count": 169,
     "metadata": {},
     "output_type": "execute_result"
    }
   ],
   "source": [
    "#독립표본 t-test\n",
    "from scipy.stats import levene\n",
    "\n",
    "# 두 집단 변수생성\n",
    "period_gen_m = df_m_ndays.groupby('user_no').mean()['purchase_date_diff']\n",
    "period_gen_z = df_z_ndays.groupby('user_no').mean()['purchase_date_diff']\n",
    "\n",
    "# 등분산 검정\n",
    "levene(period_gen_m,period_gen_z)  \n",
    "# p-value >a -> 귀무가설 채택 -> 등분산 가정 "
   ]
  },
  {
   "cell_type": "code",
   "execution_count": 170,
   "id": "b98802cc",
   "metadata": {
    "scrolled": true
   },
   "outputs": [
    {
     "data": {
      "text/plain": [
       "Ttest_indResult(statistic=0.0, pvalue=1.0)"
      ]
     },
     "execution_count": 170,
     "metadata": {},
     "output_type": "execute_result"
    }
   ],
   "source": [
    "# 독립표본 t-test \n",
    "## 귀무가설 : 두집단 평균간의 차이가 없다 vs 대립가설 : 두 집단 평균간의 차이가 있다\n",
    "from scipy import stats\n",
    "#등분산 가정 equal_var = True \n",
    "stats.ttest_ind(period_gen_m,period_gen_z,equal_var = True)\n",
    "#p-value > a(0.05) -> 귀무가설 채택 -> 두 집단의 평균이 차이가 없다."
   ]
  },
  {
   "cell_type": "code",
   "execution_count": null,
   "id": "84ed6033",
   "metadata": {},
   "outputs": [],
   "source": []
  },
  {
   "cell_type": "markdown",
   "id": "169405f6",
   "metadata": {},
   "source": [
    "# 2. 재구매율"
   ]
  },
  {
   "cell_type": "code",
   "execution_count": 26,
   "id": "62ed6028",
   "metadata": {},
   "outputs": [],
   "source": [
    "## M세대\n",
    "# data sorting 기준:['user_no','session_id', 'date']\n",
    "df_m = df_m.sort_values(by=['user_no','session_id', 'date'])"
   ]
  },
  {
   "cell_type": "code",
   "execution_count": 27,
   "id": "5fa618da",
   "metadata": {},
   "outputs": [],
   "source": [
    "# user_no 의 마지막 주문 성공 date 추출\n",
    "last_date = df_m.groupby(by=\"user_no\")[\"date\"].max().reset_index()"
   ]
  },
  {
   "cell_type": "code",
   "execution_count": 28,
   "id": "5664c7c7",
   "metadata": {},
   "outputs": [],
   "source": [
    "# 마지막 구매일과 첫번째 구매일 합치기\n",
    "result = pd.merge(df_m, last_date, on = \"user_no\")"
   ]
  },
  {
   "cell_type": "code",
   "execution_count": 29,
   "id": "cdd43411",
   "metadata": {},
   "outputs": [],
   "source": [
    "# 첫번째 유저아이디만 남기고 중복된 유저아이디 제거\n",
    "df_m_data = result.drop_duplicates(subset=[\"user_no\"])"
   ]
  },
  {
   "cell_type": "code",
   "execution_count": 30,
   "id": "48c4ab00",
   "metadata": {},
   "outputs": [
    {
     "name": "stderr",
     "output_type": "stream",
     "text": [
      "/var/folders/_m/cn5hgvpd2zv9jwrd8sdt55ch0000gn/T/ipykernel_1615/3625968927.py:2: SettingWithCopyWarning: \n",
      "A value is trying to be set on a copy of a slice from a DataFrame.\n",
      "Try using .loc[row_indexer,col_indexer] = value instead\n",
      "\n",
      "See the caveats in the documentation: https://pandas.pydata.org/pandas-docs/stable/user_guide/indexing.html#returning-a-view-versus-a-copy\n",
      "  df_m_data['date_x'] = pd.to_datetime(df_m_data['date_x'])\n",
      "/var/folders/_m/cn5hgvpd2zv9jwrd8sdt55ch0000gn/T/ipykernel_1615/3625968927.py:3: SettingWithCopyWarning: \n",
      "A value is trying to be set on a copy of a slice from a DataFrame.\n",
      "Try using .loc[row_indexer,col_indexer] = value instead\n",
      "\n",
      "See the caveats in the documentation: https://pandas.pydata.org/pandas-docs/stable/user_guide/indexing.html#returning-a-view-versus-a-copy\n",
      "  df_m_data['date_y'] = pd.to_datetime(df_m_data['date_y'])\n"
     ]
    }
   ],
   "source": [
    "# date의 타입을 datetime으로 변환\n",
    "df_m_data['date_x'] = pd.to_datetime(df_m_data['date_x'])\n",
    "df_m_data['date_y'] = pd.to_datetime(df_m_data['date_y'])\n"
   ]
  },
  {
   "cell_type": "code",
   "execution_count": 31,
   "id": "7f7f426b",
   "metadata": {},
   "outputs": [
    {
     "name": "stderr",
     "output_type": "stream",
     "text": [
      "/var/folders/_m/cn5hgvpd2zv9jwrd8sdt55ch0000gn/T/ipykernel_1615/2198937061.py:3: SettingWithCopyWarning: \n",
      "A value is trying to be set on a copy of a slice from a DataFrame.\n",
      "Try using .loc[row_indexer,col_indexer] = value instead\n",
      "\n",
      "See the caveats in the documentation: https://pandas.pydata.org/pandas-docs/stable/user_guide/indexing.html#returning-a-view-versus-a-copy\n",
      "  df_m_data['date_diff'] = df_m_data['date_y']-df_m_data['date_x']\n"
     ]
    }
   ],
   "source": [
    "# 마지막 구매와 첫구매의 기간 구하기\n",
    "# data_diff 컬럼 생성 : 마지막 구매일 - 첫 구매일\n",
    "df_m_data['date_diff'] = df_m_data['date_y']-df_m_data['date_x']"
   ]
  },
  {
   "cell_type": "code",
   "execution_count": 32,
   "id": "fc4fcd25",
   "metadata": {},
   "outputs": [
    {
     "name": "stderr",
     "output_type": "stream",
     "text": [
      "/var/folders/_m/cn5hgvpd2zv9jwrd8sdt55ch0000gn/T/ipykernel_1615/3227864065.py:2: SettingWithCopyWarning: \n",
      "A value is trying to be set on a copy of a slice from a DataFrame.\n",
      "Try using .loc[row_indexer,col_indexer] = value instead\n",
      "\n",
      "See the caveats in the documentation: https://pandas.pydata.org/pandas-docs/stable/user_guide/indexing.html#returning-a-view-versus-a-copy\n",
      "  df_m_data['date_diff'] = df_m_data['date_diff'].dt.days\n"
     ]
    }
   ],
   "source": [
    "# 계산을 위해 date_diff의 타입을 timedelta64에서 int로 변환\n",
    "df_m_data['date_diff'] = df_m_data['date_diff'].dt.days"
   ]
  },
  {
   "cell_type": "code",
   "execution_count": 33,
   "id": "735a542c",
   "metadata": {},
   "outputs": [],
   "source": [
    "# 재구매하지 않은 유저 와 재구매 유저 집단 분리\n",
    "df_m_data_0 =df_m_data[df_m_data['date_diff']==0]"
   ]
  },
  {
   "cell_type": "code",
   "execution_count": 34,
   "id": "d0bc6666",
   "metadata": {},
   "outputs": [
    {
     "data": {
      "text/plain": [
       "66530"
      ]
     },
     "execution_count": 34,
     "metadata": {},
     "output_type": "execute_result"
    }
   ],
   "source": [
    "# M세대중 재구매하지 않은 유저의 수\n",
    "df_m_data_0.shape[0] "
   ]
  },
  {
   "cell_type": "code",
   "execution_count": 35,
   "id": "64890e15",
   "metadata": {},
   "outputs": [
    {
     "data": {
      "text/plain": [
       "Int64Index([     4,      6,      7,      9,     92,     96,     98,     99,\n",
       "               101,    109,\n",
       "            ...\n",
       "            262148, 262149, 262152, 262161, 262162, 262163, 262166, 262167,\n",
       "            262168, 262183],\n",
       "           dtype='int64', length=66530)"
      ]
     },
     "execution_count": 35,
     "metadata": {},
     "output_type": "execute_result"
    }
   ],
   "source": [
    "# 재구매X 유저인덱스추출\n",
    "df_m_data_0 =df_m_data[df_m_data['date_diff']==0].index\n",
    "df_m_data_0 "
   ]
  },
  {
   "cell_type": "code",
   "execution_count": 36,
   "id": "b51f88bd",
   "metadata": {},
   "outputs": [],
   "source": [
    "# 재구매 유저 추출\n",
    "df_m_data_re = df_m_data.drop(df_m_data_0) #재구매하지 않은 유저 제거"
   ]
  },
  {
   "cell_type": "code",
   "execution_count": 37,
   "id": "ff6879fb",
   "metadata": {},
   "outputs": [
    {
     "data": {
      "text/plain": [
       "1     964\n",
       "2     689\n",
       "3     600\n",
       "4     552\n",
       "7     524\n",
       "     ... \n",
       "58     43\n",
       "59     29\n",
       "60     27\n",
       "61     11\n",
       "62      4\n",
       "Name: date_diff, Length: 62, dtype: int64"
      ]
     },
     "execution_count": 37,
     "metadata": {},
     "output_type": "execute_result"
    }
   ],
   "source": [
    "# 재구매 유저 추출\n",
    "df_m_data_re = df_m_data.drop(df_m_data_0) #재구매하지 않은 유저 제거\n",
    "df_m_data_re['date_diff'].value_counts() "
   ]
  },
  {
   "cell_type": "code",
   "execution_count": 72,
   "id": "d155e127",
   "metadata": {},
   "outputs": [
    {
     "data": {
      "text/html": [
       "<div>\n",
       "<style scoped>\n",
       "    .dataframe tbody tr th:only-of-type {\n",
       "        vertical-align: middle;\n",
       "    }\n",
       "\n",
       "    .dataframe tbody tr th {\n",
       "        vertical-align: top;\n",
       "    }\n",
       "\n",
       "    .dataframe thead th {\n",
       "        text-align: right;\n",
       "    }\n",
       "</style>\n",
       "<table border=\"1\" class=\"dataframe\">\n",
       "  <thead>\n",
       "    <tr style=\"text-align: right;\">\n",
       "      <th></th>\n",
       "      <th>user_no</th>\n",
       "      <th>year</th>\n",
       "      <th>generation</th>\n",
       "      <th>session_id</th>\n",
       "      <th>event_timestamp</th>\n",
       "      <th>event_name</th>\n",
       "      <th>item_no</th>\n",
       "      <th>price</th>\n",
       "      <th>category1_name</th>\n",
       "      <th>category2_name</th>\n",
       "      <th>category3_name</th>\n",
       "      <th>brand_no</th>\n",
       "      <th>brand_name</th>\n",
       "      <th>date_x</th>\n",
       "      <th>time</th>\n",
       "      <th>date_y</th>\n",
       "      <th>date_diff</th>\n",
       "    </tr>\n",
       "  </thead>\n",
       "  <tbody>\n",
       "    <tr>\n",
       "      <th>0</th>\n",
       "      <td>+++T9c17sr6wEYOy9UFv3w==</td>\n",
       "      <td>1989</td>\n",
       "      <td>M</td>\n",
       "      <td>c4ca4238a0b923820dcc509a6f75849b</td>\n",
       "      <td>2021-06-15 16:07:45.863056</td>\n",
       "      <td>purchase_success</td>\n",
       "      <td>f4eCC27uv5KkL4VhuUtesg==</td>\n",
       "      <td>33900.0</td>\n",
       "      <td>의류</td>\n",
       "      <td>상의</td>\n",
       "      <td>티셔츠</td>\n",
       "      <td>9173.0</td>\n",
       "      <td>ALVINCLO</td>\n",
       "      <td>2021-06-15</td>\n",
       "      <td>16:07:45.863056</td>\n",
       "      <td>2021-07-03</td>\n",
       "      <td>18</td>\n",
       "    </tr>\n",
       "    <tr>\n",
       "      <th>10</th>\n",
       "      <td>++FBFfYZThncncIvHjLbKQ==</td>\n",
       "      <td>1986</td>\n",
       "      <td>M</td>\n",
       "      <td>07e1cd7dca89a1678042477183b7ac3f</td>\n",
       "      <td>2021-06-25 10:04:19.633123</td>\n",
       "      <td>purchase_success</td>\n",
       "      <td>ekt+n7cXhqYeGj8mfgM52Q==</td>\n",
       "      <td>49500.0</td>\n",
       "      <td>디지털/가전</td>\n",
       "      <td>테크/가젯</td>\n",
       "      <td>웨어러블</td>\n",
       "      <td>5639.0</td>\n",
       "      <td>Samsung Mobile ACC</td>\n",
       "      <td>2021-06-25</td>\n",
       "      <td>10:04:19.633123</td>\n",
       "      <td>2021-07-29</td>\n",
       "      <td>34</td>\n",
       "    </tr>\n",
       "    <tr>\n",
       "      <th>22</th>\n",
       "      <td>++KjBls4euaEX77FWJaZ/A==</td>\n",
       "      <td>1994</td>\n",
       "      <td>M</td>\n",
       "      <td>00411460f7c92d2124a67ea0f4cb5f85</td>\n",
       "      <td>2021-06-10 21:53:10.327004</td>\n",
       "      <td>purchase_success</td>\n",
       "      <td>8NL5JSW3HgR7bjJ8up0RsQ==</td>\n",
       "      <td>33000.0</td>\n",
       "      <td>잡화</td>\n",
       "      <td>주얼리</td>\n",
       "      <td>목걸이</td>\n",
       "      <td>9857.0</td>\n",
       "      <td>BYWEEKEND</td>\n",
       "      <td>2021-06-10</td>\n",
       "      <td>21:53:10.327004</td>\n",
       "      <td>2021-07-03</td>\n",
       "      <td>23</td>\n",
       "    </tr>\n",
       "    <tr>\n",
       "      <th>104</th>\n",
       "      <td>++izmuIS/QEffdUxvt0y4Q==</td>\n",
       "      <td>1992</td>\n",
       "      <td>M</td>\n",
       "      <td>285e19f20beded7d215102b49d5c09a0</td>\n",
       "      <td>2021-06-06 20:24:45.913004</td>\n",
       "      <td>purchase_success</td>\n",
       "      <td>5lHq6zqbzfxRpjucwkiBMA==</td>\n",
       "      <td>118000.0</td>\n",
       "      <td>의류</td>\n",
       "      <td>하의</td>\n",
       "      <td>바지</td>\n",
       "      <td>2967.0</td>\n",
       "      <td>clove</td>\n",
       "      <td>2021-06-06</td>\n",
       "      <td>20:24:45.913004</td>\n",
       "      <td>2021-07-19</td>\n",
       "      <td>43</td>\n",
       "    </tr>\n",
       "    <tr>\n",
       "      <th>110</th>\n",
       "      <td>++nCZwJI3tzY/koA83zvrA==</td>\n",
       "      <td>1986</td>\n",
       "      <td>M</td>\n",
       "      <td>16c222aa19898e5058938167c8ab6c57</td>\n",
       "      <td>2021-06-24 13:29:40.429004</td>\n",
       "      <td>purchase_success</td>\n",
       "      <td>UkRV8gOTl2s5sPv2Ve7xhw==</td>\n",
       "      <td>169000.0</td>\n",
       "      <td>잡화</td>\n",
       "      <td>가방</td>\n",
       "      <td>백팩</td>\n",
       "      <td>12723.0</td>\n",
       "      <td>UCON ACROBATICS</td>\n",
       "      <td>2021-06-24</td>\n",
       "      <td>13:29:40.429004</td>\n",
       "      <td>2021-08-02</td>\n",
       "      <td>39</td>\n",
       "    </tr>\n",
       "    <tr>\n",
       "      <th>...</th>\n",
       "      <td>...</td>\n",
       "      <td>...</td>\n",
       "      <td>...</td>\n",
       "      <td>...</td>\n",
       "      <td>...</td>\n",
       "      <td>...</td>\n",
       "      <td>...</td>\n",
       "      <td>...</td>\n",
       "      <td>...</td>\n",
       "      <td>...</td>\n",
       "      <td>...</td>\n",
       "      <td>...</td>\n",
       "      <td>...</td>\n",
       "      <td>...</td>\n",
       "      <td>...</td>\n",
       "      <td>...</td>\n",
       "      <td>...</td>\n",
       "    </tr>\n",
       "    <tr>\n",
       "      <th>262120</th>\n",
       "      <td>zygZMyQK8LBP/Bb/rlXcvQ==</td>\n",
       "      <td>1986</td>\n",
       "      <td>M</td>\n",
       "      <td>474ae97ed65237d4240c3ba529f64eb5</td>\n",
       "      <td>2021-06-23 18:44:25.231018</td>\n",
       "      <td>purchase_success</td>\n",
       "      <td>ondt9GxIT+d4Wu2vxDM6fg==</td>\n",
       "      <td>8500.0</td>\n",
       "      <td>식품</td>\n",
       "      <td>음료</td>\n",
       "      <td>전통주</td>\n",
       "      <td>8965.0</td>\n",
       "      <td>술마켓</td>\n",
       "      <td>2021-06-23</td>\n",
       "      <td>18:44:25.231018</td>\n",
       "      <td>2021-06-30</td>\n",
       "      <td>7</td>\n",
       "    </tr>\n",
       "    <tr>\n",
       "      <th>262130</th>\n",
       "      <td>zylDi7pGIbR7MtTnAmXgWg==</td>\n",
       "      <td>1991</td>\n",
       "      <td>M</td>\n",
       "      <td>74ab8665a1b97fcc07cab0d4c6fb669c</td>\n",
       "      <td>2021-06-03 16:12:02.286004</td>\n",
       "      <td>purchase_success</td>\n",
       "      <td>f4eCC27uv5KkL4VhuUtesg==</td>\n",
       "      <td>33900.0</td>\n",
       "      <td>의류</td>\n",
       "      <td>상의</td>\n",
       "      <td>티셔츠</td>\n",
       "      <td>9173.0</td>\n",
       "      <td>ALVINCLO</td>\n",
       "      <td>2021-06-03</td>\n",
       "      <td>16:12:02.286004</td>\n",
       "      <td>2021-07-05</td>\n",
       "      <td>32</td>\n",
       "    </tr>\n",
       "    <tr>\n",
       "      <th>262154</th>\n",
       "      <td>zzX3FmRQP0Rx24B95dVF5g==</td>\n",
       "      <td>1984</td>\n",
       "      <td>M</td>\n",
       "      <td>51d037bc36da3d42395bb908a56e363b</td>\n",
       "      <td>2021-06-13 00:20:24.032004</td>\n",
       "      <td>purchase_success</td>\n",
       "      <td>sj+awiLpitDD+Cf+VzYJ8g==</td>\n",
       "      <td>99000.0</td>\n",
       "      <td>잡화</td>\n",
       "      <td>신발</td>\n",
       "      <td>샌들</td>\n",
       "      <td>3797.0</td>\n",
       "      <td>Jerusalem Sandals</td>\n",
       "      <td>2021-06-13</td>\n",
       "      <td>00:20:24.032004</td>\n",
       "      <td>2021-07-17</td>\n",
       "      <td>34</td>\n",
       "    </tr>\n",
       "    <tr>\n",
       "      <th>262159</th>\n",
       "      <td>zzXAOeqeKWUD3YmwYX58IA==</td>\n",
       "      <td>1992</td>\n",
       "      <td>M</td>\n",
       "      <td>4271f11ea8489d3fc37bcc203abb0790</td>\n",
       "      <td>2021-07-09 10:12:29.291004</td>\n",
       "      <td>purchase_success</td>\n",
       "      <td>B7HarHxtFbt4dr1t7E0GqQ==</td>\n",
       "      <td>102000.0</td>\n",
       "      <td>잡화</td>\n",
       "      <td>신발</td>\n",
       "      <td>슬리퍼</td>\n",
       "      <td>10421.0</td>\n",
       "      <td>Komorebi Museum</td>\n",
       "      <td>2021-07-09</td>\n",
       "      <td>10:12:29.291004</td>\n",
       "      <td>2021-07-10</td>\n",
       "      <td>1</td>\n",
       "    </tr>\n",
       "    <tr>\n",
       "      <th>262170</th>\n",
       "      <td>zzq8skPzbmsxokOi5tkZQQ==</td>\n",
       "      <td>1983</td>\n",
       "      <td>M</td>\n",
       "      <td>30b6ccd1fe530b98a57cf164d75d7eb4</td>\n",
       "      <td>2021-06-27 16:41:32.967004</td>\n",
       "      <td>purchase_success</td>\n",
       "      <td>yHuh7WrnYSAxMWfYkPk9mQ==</td>\n",
       "      <td>69000.0</td>\n",
       "      <td>의류</td>\n",
       "      <td>상의</td>\n",
       "      <td>티셔츠</td>\n",
       "      <td>2768.0</td>\n",
       "      <td>BROWNYARD</td>\n",
       "      <td>2021-06-27</td>\n",
       "      <td>16:41:32.967004</td>\n",
       "      <td>2021-08-01</td>\n",
       "      <td>35</td>\n",
       "    </tr>\n",
       "  </tbody>\n",
       "</table>\n",
       "<p>17840 rows × 17 columns</p>\n",
       "</div>"
      ],
      "text/plain": [
       "                         user_no  year generation  \\\n",
       "0       +++T9c17sr6wEYOy9UFv3w==  1989          M   \n",
       "10      ++FBFfYZThncncIvHjLbKQ==  1986          M   \n",
       "22      ++KjBls4euaEX77FWJaZ/A==  1994          M   \n",
       "104     ++izmuIS/QEffdUxvt0y4Q==  1992          M   \n",
       "110     ++nCZwJI3tzY/koA83zvrA==  1986          M   \n",
       "...                          ...   ...        ...   \n",
       "262120  zygZMyQK8LBP/Bb/rlXcvQ==  1986          M   \n",
       "262130  zylDi7pGIbR7MtTnAmXgWg==  1991          M   \n",
       "262154  zzX3FmRQP0Rx24B95dVF5g==  1984          M   \n",
       "262159  zzXAOeqeKWUD3YmwYX58IA==  1992          M   \n",
       "262170  zzq8skPzbmsxokOi5tkZQQ==  1983          M   \n",
       "\n",
       "                              session_id             event_timestamp  \\\n",
       "0       c4ca4238a0b923820dcc509a6f75849b  2021-06-15 16:07:45.863056   \n",
       "10      07e1cd7dca89a1678042477183b7ac3f  2021-06-25 10:04:19.633123   \n",
       "22      00411460f7c92d2124a67ea0f4cb5f85  2021-06-10 21:53:10.327004   \n",
       "104     285e19f20beded7d215102b49d5c09a0  2021-06-06 20:24:45.913004   \n",
       "110     16c222aa19898e5058938167c8ab6c57  2021-06-24 13:29:40.429004   \n",
       "...                                  ...                         ...   \n",
       "262120  474ae97ed65237d4240c3ba529f64eb5  2021-06-23 18:44:25.231018   \n",
       "262130  74ab8665a1b97fcc07cab0d4c6fb669c  2021-06-03 16:12:02.286004   \n",
       "262154  51d037bc36da3d42395bb908a56e363b  2021-06-13 00:20:24.032004   \n",
       "262159  4271f11ea8489d3fc37bcc203abb0790  2021-07-09 10:12:29.291004   \n",
       "262170  30b6ccd1fe530b98a57cf164d75d7eb4  2021-06-27 16:41:32.967004   \n",
       "\n",
       "              event_name                   item_no     price category1_name  \\\n",
       "0       purchase_success  f4eCC27uv5KkL4VhuUtesg==   33900.0             의류   \n",
       "10      purchase_success  ekt+n7cXhqYeGj8mfgM52Q==   49500.0         디지털/가전   \n",
       "22      purchase_success  8NL5JSW3HgR7bjJ8up0RsQ==   33000.0             잡화   \n",
       "104     purchase_success  5lHq6zqbzfxRpjucwkiBMA==  118000.0             의류   \n",
       "110     purchase_success  UkRV8gOTl2s5sPv2Ve7xhw==  169000.0             잡화   \n",
       "...                  ...                       ...       ...            ...   \n",
       "262120  purchase_success  ondt9GxIT+d4Wu2vxDM6fg==    8500.0             식품   \n",
       "262130  purchase_success  f4eCC27uv5KkL4VhuUtesg==   33900.0             의류   \n",
       "262154  purchase_success  sj+awiLpitDD+Cf+VzYJ8g==   99000.0             잡화   \n",
       "262159  purchase_success  B7HarHxtFbt4dr1t7E0GqQ==  102000.0             잡화   \n",
       "262170  purchase_success  yHuh7WrnYSAxMWfYkPk9mQ==   69000.0             의류   \n",
       "\n",
       "       category2_name category3_name  brand_no          brand_name     date_x  \\\n",
       "0                  상의            티셔츠    9173.0            ALVINCLO 2021-06-15   \n",
       "10              테크/가젯           웨어러블    5639.0  Samsung Mobile ACC 2021-06-25   \n",
       "22                주얼리            목걸이    9857.0           BYWEEKEND 2021-06-10   \n",
       "104                하의             바지    2967.0               clove 2021-06-06   \n",
       "110                가방             백팩   12723.0     UCON ACROBATICS 2021-06-24   \n",
       "...               ...            ...       ...                 ...        ...   \n",
       "262120             음료            전통주    8965.0                 술마켓 2021-06-23   \n",
       "262130             상의            티셔츠    9173.0            ALVINCLO 2021-06-03   \n",
       "262154             신발             샌들    3797.0   Jerusalem Sandals 2021-06-13   \n",
       "262159             신발            슬리퍼   10421.0     Komorebi Museum 2021-07-09   \n",
       "262170             상의            티셔츠    2768.0           BROWNYARD 2021-06-27   \n",
       "\n",
       "                   time     date_y  date_diff  \n",
       "0       16:07:45.863056 2021-07-03         18  \n",
       "10      10:04:19.633123 2021-07-29         34  \n",
       "22      21:53:10.327004 2021-07-03         23  \n",
       "104     20:24:45.913004 2021-07-19         43  \n",
       "110     13:29:40.429004 2021-08-02         39  \n",
       "...                 ...        ...        ...  \n",
       "262120  18:44:25.231018 2021-06-30          7  \n",
       "262130  16:12:02.286004 2021-07-05         32  \n",
       "262154  00:20:24.032004 2021-07-17         34  \n",
       "262159  10:12:29.291004 2021-07-10          1  \n",
       "262170  16:41:32.967004 2021-08-01         35  \n",
       "\n",
       "[17840 rows x 17 columns]"
      ]
     },
     "execution_count": 72,
     "metadata": {},
     "output_type": "execute_result"
    }
   ],
   "source": [
    "df_m_data_re"
   ]
  },
  {
   "cell_type": "code",
   "execution_count": 71,
   "id": "47fe51e7",
   "metadata": {
    "scrolled": true
   },
   "outputs": [
    {
     "data": {
      "text/plain": [
       "187244     1\n",
       "10245      1\n",
       "181387     1\n",
       "10294      1\n",
       "77650      1\n",
       "          ..\n",
       "69310     61\n",
       "142506    62\n",
       "109297    62\n",
       "111711    62\n",
       "203419    62\n",
       "Name: date_diff, Length: 17840, dtype: int64"
      ]
     },
     "execution_count": 71,
     "metadata": {},
     "output_type": "execute_result"
    }
   ],
   "source": [
    "df_m_data_re['date_diff'].sort_values()"
   ]
  },
  {
   "cell_type": "code",
   "execution_count": 91,
   "id": "a084fb04",
   "metadata": {},
   "outputs": [
    {
     "data": {
      "text/plain": [
       "371563"
      ]
     },
     "execution_count": 91,
     "metadata": {},
     "output_type": "execute_result"
    }
   ],
   "source": [
    "df_m_data_re['date_diff'].sort_values().sum()"
   ]
  },
  {
   "cell_type": "code",
   "execution_count": 90,
   "id": "cf3944dd",
   "metadata": {},
   "outputs": [
    {
     "data": {
      "text/plain": [
       "1     964\n",
       "2     689\n",
       "3     600\n",
       "4     552\n",
       "7     524\n",
       "     ... \n",
       "58     43\n",
       "59     29\n",
       "60     27\n",
       "61     11\n",
       "62      4\n",
       "Name: date_diff, Length: 62, dtype: int64"
      ]
     },
     "execution_count": 90,
     "metadata": {},
     "output_type": "execute_result"
    }
   ],
   "source": [
    "df_m_data_re['date_diff'].value_counts()"
   ]
  },
  {
   "cell_type": "code",
   "execution_count": null,
   "id": "ca6fc677",
   "metadata": {},
   "outputs": [],
   "source": [
    "# 재구매율 구해보기 "
   ]
  },
  {
   "cell_type": "code",
   "execution_count": 93,
   "id": "b668293a",
   "metadata": {},
   "outputs": [
    {
     "data": {
      "text/plain": [
       "17840"
      ]
     },
     "execution_count": 93,
     "metadata": {},
     "output_type": "execute_result"
    }
   ],
   "source": [
    "df_m_data_re['date_diff'].value_counts().sum()"
   ]
  },
  {
   "cell_type": "code",
   "execution_count": 61,
   "id": "fb36cad9",
   "metadata": {},
   "outputs": [
    {
     "data": {
      "text/plain": [
       "84370"
      ]
     },
     "execution_count": 61,
     "metadata": {},
     "output_type": "execute_result"
    }
   ],
   "source": [
    "df_m['user_no'].nunique().sum()"
   ]
  },
  {
   "cell_type": "code",
   "execution_count": 38,
   "id": "60202ee9",
   "metadata": {},
   "outputs": [
    {
     "data": {
      "text/plain": [
       "21.144956738177076"
      ]
     },
     "execution_count": 38,
     "metadata": {},
     "output_type": "execute_result"
    }
   ],
   "source": [
    "# M세대의 재구매율\n",
    "df_m_data_re['date_diff'].value_counts().sum() / df_m['user_no'].nunique()*100"
   ]
  },
  {
   "cell_type": "code",
   "execution_count": 39,
   "id": "7089a05b",
   "metadata": {},
   "outputs": [],
   "source": [
    "## Z세대 재구매율\n",
    "df_z = df_z.sort_values(by=['user_no','session_id', 'date'])"
   ]
  },
  {
   "cell_type": "code",
   "execution_count": 40,
   "id": "d2d58845",
   "metadata": {},
   "outputs": [],
   "source": [
    "last_date = df_z.groupby(by=\"user_no\")[\"date\"].max().reset_index()"
   ]
  },
  {
   "cell_type": "code",
   "execution_count": 41,
   "id": "7be8467a",
   "metadata": {},
   "outputs": [],
   "source": [
    "result = pd.merge(df_z, last_date, on = \"user_no\")"
   ]
  },
  {
   "cell_type": "code",
   "execution_count": 42,
   "id": "87ec2e9d",
   "metadata": {},
   "outputs": [],
   "source": [
    "df_z_data = result.drop_duplicates(subset=[\"user_no\"])"
   ]
  },
  {
   "cell_type": "code",
   "execution_count": 43,
   "id": "867349ac",
   "metadata": {
    "scrolled": true
   },
   "outputs": [
    {
     "name": "stderr",
     "output_type": "stream",
     "text": [
      "/var/folders/_m/cn5hgvpd2zv9jwrd8sdt55ch0000gn/T/ipykernel_1615/3425009851.py:1: SettingWithCopyWarning: \n",
      "A value is trying to be set on a copy of a slice from a DataFrame.\n",
      "Try using .loc[row_indexer,col_indexer] = value instead\n",
      "\n",
      "See the caveats in the documentation: https://pandas.pydata.org/pandas-docs/stable/user_guide/indexing.html#returning-a-view-versus-a-copy\n",
      "  df_z_data['date_x'] = pd.to_datetime(df_z_data['date_x'])\n",
      "/var/folders/_m/cn5hgvpd2zv9jwrd8sdt55ch0000gn/T/ipykernel_1615/3425009851.py:2: SettingWithCopyWarning: \n",
      "A value is trying to be set on a copy of a slice from a DataFrame.\n",
      "Try using .loc[row_indexer,col_indexer] = value instead\n",
      "\n",
      "See the caveats in the documentation: https://pandas.pydata.org/pandas-docs/stable/user_guide/indexing.html#returning-a-view-versus-a-copy\n",
      "  df_z_data['date_y'] = pd.to_datetime(df_z_data['date_y'])\n"
     ]
    }
   ],
   "source": [
    "df_z_data['date_x'] = pd.to_datetime(df_z_data['date_x'])\n",
    "df_z_data['date_y'] = pd.to_datetime(df_z_data['date_y'])\n"
   ]
  },
  {
   "cell_type": "code",
   "execution_count": 44,
   "id": "943bb6cc",
   "metadata": {
    "scrolled": true
   },
   "outputs": [
    {
     "name": "stderr",
     "output_type": "stream",
     "text": [
      "/var/folders/_m/cn5hgvpd2zv9jwrd8sdt55ch0000gn/T/ipykernel_1615/3665906669.py:1: SettingWithCopyWarning: \n",
      "A value is trying to be set on a copy of a slice from a DataFrame.\n",
      "Try using .loc[row_indexer,col_indexer] = value instead\n",
      "\n",
      "See the caveats in the documentation: https://pandas.pydata.org/pandas-docs/stable/user_guide/indexing.html#returning-a-view-versus-a-copy\n",
      "  df_z_data['date_diff'] = df_z_data['date_y']-df_z_data['date_x']\n"
     ]
    }
   ],
   "source": [
    "df_z_data['date_diff'] = df_z_data['date_y']-df_z_data['date_x']"
   ]
  },
  {
   "cell_type": "code",
   "execution_count": 45,
   "id": "157f06ed",
   "metadata": {
    "scrolled": true
   },
   "outputs": [
    {
     "name": "stderr",
     "output_type": "stream",
     "text": [
      "/var/folders/_m/cn5hgvpd2zv9jwrd8sdt55ch0000gn/T/ipykernel_1615/2504393402.py:1: SettingWithCopyWarning: \n",
      "A value is trying to be set on a copy of a slice from a DataFrame.\n",
      "Try using .loc[row_indexer,col_indexer] = value instead\n",
      "\n",
      "See the caveats in the documentation: https://pandas.pydata.org/pandas-docs/stable/user_guide/indexing.html#returning-a-view-versus-a-copy\n",
      "  df_z_data['date_diff'] = df_z_data['date_diff'].dt.days\n"
     ]
    }
   ],
   "source": [
    "df_z_data['date_diff'] = df_z_data['date_diff'].dt.days"
   ]
  },
  {
   "cell_type": "code",
   "execution_count": 46,
   "id": "db61c726",
   "metadata": {},
   "outputs": [],
   "source": [
    "df_z_data_0 =df_z_data[df_z_data['date_diff']==0]"
   ]
  },
  {
   "cell_type": "code",
   "execution_count": 47,
   "id": "897b4455",
   "metadata": {
    "scrolled": true
   },
   "outputs": [
    {
     "data": {
      "text/plain": [
       "28706"
      ]
     },
     "execution_count": 47,
     "metadata": {},
     "output_type": "execute_result"
    }
   ],
   "source": [
    "df_z_data_0.shape[0] "
   ]
  },
  {
   "cell_type": "code",
   "execution_count": 48,
   "id": "62df8abb",
   "metadata": {},
   "outputs": [
    {
     "data": {
      "text/plain": [
       "Int64Index([    0,     1,     2,     3,    10,    11,    12,    13,    14,\n",
       "               16,\n",
       "            ...\n",
       "            82805, 82810, 82811, 82813, 82821, 82829, 82830, 82831, 82835,\n",
       "            82838],\n",
       "           dtype='int64', length=28706)"
      ]
     },
     "execution_count": 48,
     "metadata": {},
     "output_type": "execute_result"
    }
   ],
   "source": [
    "df_z_data_0 =df_z_data[df_z_data['date_diff']==0].index\n",
    "df_z_data_0 "
   ]
  },
  {
   "cell_type": "code",
   "execution_count": 49,
   "id": "05b9edb3",
   "metadata": {},
   "outputs": [],
   "source": [
    "df_z_data_re = df_z_data.drop(df_z_data_0) #재구매하지 않은 유저 제거"
   ]
  },
  {
   "cell_type": "code",
   "execution_count": 89,
   "id": "45aec285",
   "metadata": {},
   "outputs": [
    {
     "data": {
      "text/plain": [
       "1     357\n",
       "2     240\n",
       "3     227\n",
       "4     224\n",
       "5     185\n",
       "     ... \n",
       "58     15\n",
       "59     13\n",
       "60      3\n",
       "62      2\n",
       "61      1\n",
       "Name: date_diff, Length: 62, dtype: int64"
      ]
     },
     "execution_count": 89,
     "metadata": {},
     "output_type": "execute_result"
    }
   ],
   "source": [
    "df_z_data_re['date_diff'].value_counts() "
   ]
  },
  {
   "cell_type": "code",
   "execution_count": 177,
   "id": "017128e9",
   "metadata": {},
   "outputs": [
    {
     "data": {
      "text/plain": [
       "21.144956738177076"
      ]
     },
     "execution_count": 177,
     "metadata": {},
     "output_type": "execute_result"
    }
   ],
   "source": [
    "df_m_data_re['date_diff'].value_counts().sum() / df_m['user_no'].nunique()*100"
   ]
  },
  {
   "cell_type": "code",
   "execution_count": 51,
   "id": "cacd50b8",
   "metadata": {},
   "outputs": [
    {
     "data": {
      "text/plain": [
       "17.30237381885227"
      ]
     },
     "execution_count": 51,
     "metadata": {},
     "output_type": "execute_result"
    }
   ],
   "source": [
    "# Z세대 재구매율\n",
    "df_z_data_re['date_diff'].value_counts().sum() / df_z['user_no'].nunique()*100"
   ]
  },
  {
   "cell_type": "code",
   "execution_count": null,
   "id": "4bc4b7b4",
   "metadata": {},
   "outputs": [],
   "source": []
  },
  {
   "cell_type": "markdown",
   "id": "a7546b94",
   "metadata": {},
   "source": [
    "## 재구매율 비율검정"
   ]
  },
  {
   "cell_type": "code",
   "execution_count": null,
   "id": "67bc977f",
   "metadata": {},
   "outputs": [],
   "source": [
    "# 참고 사이트 https://circle-square.tistory.com/89"
   ]
  },
  {
   "cell_type": "code",
   "execution_count": 180,
   "id": "1d47115d",
   "metadata": {},
   "outputs": [],
   "source": [
    "import numpy as np\n",
    "from statsmodels.stats.proportion import proportions_ztest"
   ]
  },
  {
   "cell_type": "code",
   "execution_count": 187,
   "id": "375ea6e3",
   "metadata": {},
   "outputs": [],
   "source": [
    "count = np.array([17840, 6006])\n",
    "nobs = np.array([84370, 34712])"
   ]
  },
  {
   "cell_type": "code",
   "execution_count": 203,
   "id": "4c28ccbc",
   "metadata": {},
   "outputs": [
    {
     "name": "stdout",
     "output_type": "stream",
     "text": [
      "z : 15.058156556933609, p : 3.0517846568936383e-51\n"
     ]
    }
   ],
   "source": [
    "#귀무가설: 두 비율간 차이가 없다 vs 대립가설: 두 비율간 차이가 있다\n",
    "z, p = proportions_ztest(count=count, nobs=nobs, value=0)\n",
    "print('z : {}, p : {}'.format(z, p)) \n",
    "# p-value < 0 -> 귀무가설을 기각 -> 두 비율간 차이가 있다고 볼 수 있음."
   ]
  },
  {
   "cell_type": "code",
   "execution_count": null,
   "id": "e711d16b",
   "metadata": {},
   "outputs": [],
   "source": []
  },
  {
   "cell_type": "markdown",
   "id": "de21c501",
   "metadata": {},
   "source": [
    "# 객단가"
   ]
  },
  {
   "cell_type": "code",
   "execution_count": null,
   "id": "e36bb60a",
   "metadata": {},
   "outputs": [],
   "source": [
    "import pandas as pd\n",
    "import numpy as np\n",
    "df = pd.read_csv(\"mz_final.csv\", encoding = 'utf-8')"
   ]
  },
  {
   "cell_type": "code",
   "execution_count": null,
   "id": "a1ed947e",
   "metadata": {},
   "outputs": [],
   "source": [
    "#MZ바꾸기만 하면 됨.\n",
    "#구입 성공한 사람\n",
    "df_purchase= df[df['event_name']=='purchase_success']\n",
    "df_z= df_purchase[df_purchase['generation']=='Z']\n",
    "df_z\n",
    "\n",
    "df_purchase= df[df['event_name']=='purchase_success']\n",
    "df_m= df_purchase[df_purchase['generation']=='M']\n",
    "df_m\n",
    "#Z세대 구입 가격 다 더한거 \n",
    "Totalz = df_z['price'].sum()\n",
    "Totalm = df_m['price'].sum()\n",
    "#**z세대 구매 금액 4685392296.0\n",
    "#*M세대 구매 금액 16491579305.0\n",
    "\n",
    "#성공적으로 구매한 사람 중에 중복 지운 것.(z: 34712 m:84370)\n",
    "df_Zno= df_z.drop_duplicates(['user_no'])\n",
    "df_Zno.count()\n",
    "df_mno= df_m.drop_duplicates(['user_no'])\n",
    "df_mno.count()\n",
    "#전체 구매금액 / 중목없는 사람 수\n",
    "#Z 세대(객단가)  208249\n",
    "Totalz / df_Zno['user_no'].count()\n",
    "Totalm / df_mno['user_no'].count()#(z: 134979 , M: 195467)"
   ]
  },
  {
   "cell_type": "markdown",
   "id": "01309dba",
   "metadata": {},
   "source": [
    "## 객단가 t-test"
   ]
  },
  {
   "cell_type": "code",
   "execution_count": 54,
   "id": "a45c577f",
   "metadata": {},
   "outputs": [],
   "source": [
    "import matplotlib.pyplot as plt\n",
    "import numpy as np"
   ]
  },
  {
   "cell_type": "code",
   "execution_count": 55,
   "id": "4916f5e1",
   "metadata": {},
   "outputs": [],
   "source": [
    "#세대별 user_no 구매가격 확인후 정렬\n",
    "#세대별 구매성공\n",
    "df_m = df[(df['generation']=='M')&(df['event_name']=='purchase_success')].groupby('user_no')\n",
    "df_z = df[(df['generation']=='Z')&(df['event_name']=='purchase_success')].groupby('user_no')\n",
    "\n"
   ]
  },
  {
   "cell_type": "code",
   "execution_count": 56,
   "id": "eb3c696c",
   "metadata": {},
   "outputs": [
    {
     "data": {
      "text/plain": [
       "user_no\n",
       "N1KCZiTobZBss1eWO2iSaA==        500.0\n",
       "AWziMPY8sSYNwloMHfUlWQ==        600.0\n",
       "w0tyEo3KDa7UXm0Tgfg1tg==        600.0\n",
       "GhZ22EFjlXcx1KM0MwBnUQ==        990.0\n",
       "DiNzuxphnUh3DTPr6Q0YQw==       1500.0\n",
       "                              ...    \n",
       "H5r8dy95iRUOMaIQelJVEg==    2797000.0\n",
       "woApBxlycI8NG90SloRyRg==    3227300.0\n",
       "cjRLplt5NuCfVcbtKjFgrg==    3643900.0\n",
       "THRsmIZH+3pPSZhV/gpUNA==    4143000.0\n",
       "HYd/Mh5ogaiu+Ln0cctE7Q==    4754200.0\n",
       "Name: price, Length: 34712, dtype: float64"
      ]
     },
     "execution_count": 56,
     "metadata": {},
     "output_type": "execute_result"
    }
   ],
   "source": [
    "#독립표본 t-test\n",
    "from scipy.stats import levene\n",
    "#세대별 user_no 구매가격 확인후 정렬\n",
    "df_m['price'].sum().sort_values()\n",
    "df_z['price'].sum().sort_values()\n"
   ]
  },
  {
   "cell_type": "code",
   "execution_count": 57,
   "id": "6051ed54",
   "metadata": {},
   "outputs": [
    {
     "data": {
      "text/plain": [
       "LeveneResult(statistic=1067.8303913768154, pvalue=3.517876917141587e-233)"
      ]
     },
     "execution_count": 57,
     "metadata": {},
     "output_type": "execute_result"
    }
   ],
   "source": [
    "#독립표본 t-test\n",
    "from scipy.stats import levene\n",
    "\n",
    "# 두 집단 변수생성\n",
    "gen_m = df_m['price'].sum().sort_values()\n",
    "gen_z = df_z['price'].sum().sort_values()\n",
    "\n",
    "# 등분산 검정\n",
    "levene(gen_m, gen_z) \n"
   ]
  },
  {
   "cell_type": "code",
   "execution_count": 58,
   "id": "86bdd399",
   "metadata": {},
   "outputs": [
    {
     "data": {
      "text/plain": [
       "Ttest_indResult(statistic=45.820051232719315, pvalue=0.0)"
      ]
     },
     "execution_count": 58,
     "metadata": {},
     "output_type": "execute_result"
    }
   ],
   "source": [
    "# 독립표본 t-test\n",
    "from scipy import stats\n",
    "#이분산 가정 (equal_var = False\n",
    "stats.ttest_ind(gen_m,gen_z,equal_var = False)"
   ]
  }
 ],
 "metadata": {
  "kernelspec": {
   "display_name": "Python 3 (ipykernel)",
   "language": "python",
   "name": "python3"
  },
  "language_info": {
   "codemirror_mode": {
    "name": "ipython",
    "version": 3
   },
   "file_extension": ".py",
   "mimetype": "text/x-python",
   "name": "python",
   "nbconvert_exporter": "python",
   "pygments_lexer": "ipython3",
   "version": "3.9.12"
  }
 },
 "nbformat": 4,
 "nbformat_minor": 5
}
